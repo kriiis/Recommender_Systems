{
 "cells": [
  {
   "cell_type": "markdown",
   "id": "97c4f4cf-9ae7-4295-a243-dae507dcd24d",
   "metadata": {},
   "source": [
    "# Recommender systems"
   ]
  },
  {
   "cell_type": "markdown",
   "id": "67fd2341-a12b-4b69-b5e6-12310f22ee74",
   "metadata": {},
   "source": [
    "## Load the dataset"
   ]
  },
  {
   "cell_type": "markdown",
   "id": "b66b7890-b74b-499e-94a2-70a6c76d3578",
   "metadata": {},
   "source": [
    "We have collected food ratings from different students. The numbers have the following meaning:\n",
    "\n",
    "Rating explanation (range from 0 to 10):\t\n",
    "\n",
    "|Rating|Description|\n",
    "|-|-|\n",
    "| 0\t|I have never tried this food|\n",
    "| 1\t|I hate this food, would never eat that|\n",
    "| 5\t|I don't mind eating this but not a fan either / Never tried|\n",
    "| 10|\tI absolutely LOVE this food|"
   ]
  },
  {
   "cell_type": "code",
   "execution_count": 33,
   "id": "7838d402-6459-4e62-81d2-1241634d2986",
   "metadata": {},
   "outputs": [],
   "source": [
    "import pandas as pd\n",
    "import numpy as np\n",
    "import seaborn as sns\n",
    "import matplotlib.pyplot as plt"
   ]
  },
  {
   "cell_type": "code",
   "execution_count": 34,
   "id": "97f56715-9fbf-4b26-aaee-8aa46daa32e0",
   "metadata": {},
   "outputs": [
    {
     "data": {
      "text/html": [
       "<div>\n",
       "<style scoped>\n",
       "    .dataframe tbody tr th:only-of-type {\n",
       "        vertical-align: middle;\n",
       "    }\n",
       "\n",
       "    .dataframe tbody tr th {\n",
       "        vertical-align: top;\n",
       "    }\n",
       "\n",
       "    .dataframe thead th {\n",
       "        text-align: right;\n",
       "    }\n",
       "</style>\n",
       "<table border=\"1\" class=\"dataframe\">\n",
       "  <thead>\n",
       "    <tr style=\"text-align: right;\">\n",
       "      <th></th>\n",
       "      <th>broccoli</th>\n",
       "      <th>brussels_sprouts</th>\n",
       "      <th>hamburger</th>\n",
       "      <th>oysters (raw)</th>\n",
       "      <th>onion (raw)</th>\n",
       "      <th>peas</th>\n",
       "      <th>olives</th>\n",
       "      <th>blue_cheese</th>\n",
       "      <th>whisky</th>\n",
       "    </tr>\n",
       "    <tr>\n",
       "      <th>student</th>\n",
       "      <th></th>\n",
       "      <th></th>\n",
       "      <th></th>\n",
       "      <th></th>\n",
       "      <th></th>\n",
       "      <th></th>\n",
       "      <th></th>\n",
       "      <th></th>\n",
       "      <th></th>\n",
       "    </tr>\n",
       "  </thead>\n",
       "  <tbody>\n",
       "    <tr>\n",
       "      <th>Akbar</th>\n",
       "      <td>7</td>\n",
       "      <td>0</td>\n",
       "      <td>5</td>\n",
       "      <td>1</td>\n",
       "      <td>3</td>\n",
       "      <td>4</td>\n",
       "      <td>8</td>\n",
       "      <td>8</td>\n",
       "      <td>7</td>\n",
       "    </tr>\n",
       "    <tr>\n",
       "      <th>Andreas</th>\n",
       "      <td>7</td>\n",
       "      <td>7</td>\n",
       "      <td>7</td>\n",
       "      <td>0</td>\n",
       "      <td>7</td>\n",
       "      <td>3</td>\n",
       "      <td>3</td>\n",
       "      <td>5</td>\n",
       "      <td>7</td>\n",
       "    </tr>\n",
       "    <tr>\n",
       "      <th>Dónal</th>\n",
       "      <td>8</td>\n",
       "      <td>6</td>\n",
       "      <td>8</td>\n",
       "      <td>5</td>\n",
       "      <td>1</td>\n",
       "      <td>5</td>\n",
       "      <td>8</td>\n",
       "      <td>10</td>\n",
       "      <td>10</td>\n",
       "    </tr>\n",
       "    <tr>\n",
       "      <th>Hana</th>\n",
       "      <td>0</td>\n",
       "      <td>8</td>\n",
       "      <td>8</td>\n",
       "      <td>8</td>\n",
       "      <td>0</td>\n",
       "      <td>7</td>\n",
       "      <td>9</td>\n",
       "      <td>8</td>\n",
       "      <td>7</td>\n",
       "    </tr>\n",
       "    <tr>\n",
       "      <th>Konstantinos</th>\n",
       "      <td>7</td>\n",
       "      <td>7</td>\n",
       "      <td>1</td>\n",
       "      <td>10</td>\n",
       "      <td>10</td>\n",
       "      <td>8</td>\n",
       "      <td>10</td>\n",
       "      <td>2</td>\n",
       "      <td>7</td>\n",
       "    </tr>\n",
       "    <tr>\n",
       "      <th>Kristina</th>\n",
       "      <td>9</td>\n",
       "      <td>8</td>\n",
       "      <td>0</td>\n",
       "      <td>0</td>\n",
       "      <td>7</td>\n",
       "      <td>7</td>\n",
       "      <td>9</td>\n",
       "      <td>2</td>\n",
       "      <td>7</td>\n",
       "    </tr>\n",
       "    <tr>\n",
       "      <th>Sabrina</th>\n",
       "      <td>6</td>\n",
       "      <td>0</td>\n",
       "      <td>10</td>\n",
       "      <td>1</td>\n",
       "      <td>8</td>\n",
       "      <td>0</td>\n",
       "      <td>10</td>\n",
       "      <td>1</td>\n",
       "      <td>5</td>\n",
       "    </tr>\n",
       "    <tr>\n",
       "      <th>Sandrine</th>\n",
       "      <td>10</td>\n",
       "      <td>2</td>\n",
       "      <td>8</td>\n",
       "      <td>1</td>\n",
       "      <td>5</td>\n",
       "      <td>8</td>\n",
       "      <td>10</td>\n",
       "      <td>10</td>\n",
       "      <td>0</td>\n",
       "    </tr>\n",
       "    <tr>\n",
       "      <th>Sevgi</th>\n",
       "      <td>6</td>\n",
       "      <td>2</td>\n",
       "      <td>9</td>\n",
       "      <td>0</td>\n",
       "      <td>5</td>\n",
       "      <td>7</td>\n",
       "      <td>10</td>\n",
       "      <td>1</td>\n",
       "      <td>0</td>\n",
       "    </tr>\n",
       "    <tr>\n",
       "      <th>Rias</th>\n",
       "      <td>8</td>\n",
       "      <td>6</td>\n",
       "      <td>8</td>\n",
       "      <td>5</td>\n",
       "      <td>0</td>\n",
       "      <td>6</td>\n",
       "      <td>8</td>\n",
       "      <td>8</td>\n",
       "      <td>10</td>\n",
       "    </tr>\n",
       "    <tr>\n",
       "      <th>Ben</th>\n",
       "      <td>8</td>\n",
       "      <td>8</td>\n",
       "      <td>5</td>\n",
       "      <td>4</td>\n",
       "      <td>5</td>\n",
       "      <td>9</td>\n",
       "      <td>10</td>\n",
       "      <td>9</td>\n",
       "      <td>10</td>\n",
       "    </tr>\n",
       "    <tr>\n",
       "      <th>Joan</th>\n",
       "      <td>0</td>\n",
       "      <td>1</td>\n",
       "      <td>8</td>\n",
       "      <td>0</td>\n",
       "      <td>7</td>\n",
       "      <td>2</td>\n",
       "      <td>8</td>\n",
       "      <td>9</td>\n",
       "      <td>6</td>\n",
       "    </tr>\n",
       "    <tr>\n",
       "      <th>Ranjit</th>\n",
       "      <td>7</td>\n",
       "      <td>2</td>\n",
       "      <td>0</td>\n",
       "      <td>2</td>\n",
       "      <td>8</td>\n",
       "      <td>10</td>\n",
       "      <td>8</td>\n",
       "      <td>5</td>\n",
       "      <td>10</td>\n",
       "    </tr>\n",
       "  </tbody>\n",
       "</table>\n",
       "</div>"
      ],
      "text/plain": [
       "              broccoli  brussels_sprouts  hamburger  oysters (raw)  \\\n",
       "student                                                              \n",
       "Akbar                7                 0          5              1   \n",
       "Andreas              7                 7          7              0   \n",
       "Dónal                8                 6          8              5   \n",
       "Hana                 0                 8          8              8   \n",
       "Konstantinos         7                 7          1             10   \n",
       "Kristina             9                 8          0              0   \n",
       "Sabrina              6                 0         10              1   \n",
       "Sandrine            10                 2          8              1   \n",
       "Sevgi                6                 2          9              0   \n",
       "Rias                 8                 6          8              5   \n",
       "Ben                  8                 8          5              4   \n",
       "Joan                 0                 1          8              0   \n",
       "Ranjit               7                 2          0              2   \n",
       "\n",
       "               onion (raw)  peas  olives  blue_cheese  whisky  \n",
       "student                                                        \n",
       "Akbar                    3     4       8            8       7  \n",
       "Andreas                  7     3       3            5       7  \n",
       "Dónal                    1     5       8           10      10  \n",
       "Hana                     0     7       9            8       7  \n",
       "Konstantinos            10     8      10            2       7  \n",
       "Kristina                 7     7       9            2       7  \n",
       "Sabrina                  8     0      10            1       5  \n",
       "Sandrine                 5     8      10           10       0  \n",
       "Sevgi                    5     7      10            1       0  \n",
       "Rias                     0     6       8            8      10  \n",
       "Ben                      5     9      10            9      10  \n",
       "Joan                     7     2       8            9       6  \n",
       "Ranjit                   8    10       8            5      10  "
      ]
     },
     "execution_count": 34,
     "metadata": {},
     "output_type": "execute_result"
    }
   ],
   "source": [
    "food = pd.read_csv('data/food_ratings.csv', index_col='student')\n",
    "food.drop(['age','favorite_color'], axis=1, inplace=True)\n",
    "food"
   ]
  },
  {
   "cell_type": "markdown",
   "id": "2cad3ae4",
   "metadata": {},
   "source": [
    "## Popularity base"
   ]
  },
  {
   "cell_type": "code",
   "execution_count": 35,
   "id": "57f65e14",
   "metadata": {},
   "outputs": [
    {
     "data": {
      "text/html": [
       "<div>\n",
       "<style scoped>\n",
       "    .dataframe tbody tr th:only-of-type {\n",
       "        vertical-align: middle;\n",
       "    }\n",
       "\n",
       "    .dataframe tbody tr th {\n",
       "        vertical-align: top;\n",
       "    }\n",
       "\n",
       "    .dataframe thead th {\n",
       "        text-align: right;\n",
       "    }\n",
       "</style>\n",
       "<table border=\"1\" class=\"dataframe\">\n",
       "  <thead>\n",
       "    <tr style=\"text-align: right;\">\n",
       "      <th></th>\n",
       "      <th>mean_rating</th>\n",
       "    </tr>\n",
       "    <tr>\n",
       "      <th>variable</th>\n",
       "      <th></th>\n",
       "    </tr>\n",
       "  </thead>\n",
       "  <tbody>\n",
       "    <tr>\n",
       "      <th>onion (raw)</th>\n",
       "      <td>6.000000</td>\n",
       "    </tr>\n",
       "    <tr>\n",
       "      <th>blue_cheese</th>\n",
       "      <td>6.000000</td>\n",
       "    </tr>\n",
       "    <tr>\n",
       "      <th>broccoli</th>\n",
       "      <td>7.545455</td>\n",
       "    </tr>\n",
       "    <tr>\n",
       "      <th>brussels_sprouts</th>\n",
       "      <td>5.181818</td>\n",
       "    </tr>\n",
       "    <tr>\n",
       "      <th>hamburger</th>\n",
       "      <td>7.000000</td>\n",
       "    </tr>\n",
       "    <tr>\n",
       "      <th>olives</th>\n",
       "      <td>8.538462</td>\n",
       "    </tr>\n",
       "    <tr>\n",
       "      <th>oysters (raw)</th>\n",
       "      <td>4.111111</td>\n",
       "    </tr>\n",
       "    <tr>\n",
       "      <th>peas</th>\n",
       "      <td>6.333333</td>\n",
       "    </tr>\n",
       "    <tr>\n",
       "      <th>whisky</th>\n",
       "      <td>7.818182</td>\n",
       "    </tr>\n",
       "  </tbody>\n",
       "</table>\n",
       "</div>"
      ],
      "text/plain": [
       "                  mean_rating\n",
       "variable                     \n",
       " onion (raw)         6.000000\n",
       "blue_cheese          6.000000\n",
       "broccoli             7.545455\n",
       "brussels_sprouts     5.181818\n",
       "hamburger            7.000000\n",
       "olives               8.538462\n",
       "oysters (raw)        4.111111\n",
       "peas                 6.333333\n",
       "whisky               7.818182"
      ]
     },
     "execution_count": 35,
     "metadata": {},
     "output_type": "execute_result"
    }
   ],
   "source": [
    "# by ratings\n",
    "(\n",
    "food\n",
    "    .reset_index()\n",
    "    .melt(id_vars=['student'], value_vars=food.columns)\n",
    "    .query('value != 0')\n",
    "    .groupby('variable')\n",
    "    .agg(mean_rating = ('value', 'mean'))\n",
    "    # .reset_index()\n",
    "    # .sort_values('mean_rating', ascending=False)\n",
    "    .head(10)\n",
    "    )"
   ]
  },
  {
   "cell_type": "code",
   "execution_count": 36,
   "id": "a6e7e216",
   "metadata": {},
   "outputs": [
    {
     "data": {
      "text/html": [
       "<div>\n",
       "<style scoped>\n",
       "    .dataframe tbody tr th:only-of-type {\n",
       "        vertical-align: middle;\n",
       "    }\n",
       "\n",
       "    .dataframe tbody tr th {\n",
       "        vertical-align: top;\n",
       "    }\n",
       "\n",
       "    .dataframe thead th {\n",
       "        text-align: right;\n",
       "    }\n",
       "</style>\n",
       "<table border=\"1\" class=\"dataframe\">\n",
       "  <thead>\n",
       "    <tr style=\"text-align: right;\">\n",
       "      <th></th>\n",
       "      <th>count_rating</th>\n",
       "    </tr>\n",
       "    <tr>\n",
       "      <th>variable</th>\n",
       "      <th></th>\n",
       "    </tr>\n",
       "  </thead>\n",
       "  <tbody>\n",
       "    <tr>\n",
       "      <th>onion (raw)</th>\n",
       "      <td>11</td>\n",
       "    </tr>\n",
       "    <tr>\n",
       "      <th>blue_cheese</th>\n",
       "      <td>13</td>\n",
       "    </tr>\n",
       "    <tr>\n",
       "      <th>broccoli</th>\n",
       "      <td>11</td>\n",
       "    </tr>\n",
       "    <tr>\n",
       "      <th>brussels_sprouts</th>\n",
       "      <td>11</td>\n",
       "    </tr>\n",
       "    <tr>\n",
       "      <th>hamburger</th>\n",
       "      <td>11</td>\n",
       "    </tr>\n",
       "    <tr>\n",
       "      <th>olives</th>\n",
       "      <td>13</td>\n",
       "    </tr>\n",
       "    <tr>\n",
       "      <th>oysters (raw)</th>\n",
       "      <td>9</td>\n",
       "    </tr>\n",
       "    <tr>\n",
       "      <th>peas</th>\n",
       "      <td>12</td>\n",
       "    </tr>\n",
       "    <tr>\n",
       "      <th>whisky</th>\n",
       "      <td>11</td>\n",
       "    </tr>\n",
       "  </tbody>\n",
       "</table>\n",
       "</div>"
      ],
      "text/plain": [
       "                  count_rating\n",
       "variable                      \n",
       " onion (raw)                11\n",
       "blue_cheese                 13\n",
       "broccoli                    11\n",
       "brussels_sprouts            11\n",
       "hamburger                   11\n",
       "olives                      13\n",
       "oysters (raw)                9\n",
       "peas                        12\n",
       "whisky                      11"
      ]
     },
     "execution_count": 36,
     "metadata": {},
     "output_type": "execute_result"
    }
   ],
   "source": [
    "# by ratings count\n",
    "(\n",
    "food\n",
    "    .reset_index()\n",
    "    .melt(id_vars=['student'], value_vars=food.columns)\n",
    "    .query('value != 0')\n",
    "    .groupby('variable')\n",
    "    .agg(count_rating = ('value', 'count'))\n",
    "    # .reset_index()\n",
    "    # .sort_values('count_rating', ascending=False)\n",
    "    .head(10)\n",
    "    )"
   ]
  },
  {
   "cell_type": "code",
   "execution_count": 37,
   "id": "da4d4fbf",
   "metadata": {},
   "outputs": [],
   "source": [
    "# create a metric based on popularity and rating\n",
    "\n",
    "def popularity_rating(df,item,num):\n",
    "    ratings = (\n",
    "    df\n",
    "        .reset_index()\n",
    "        .melt(id_vars=['student'], value_vars=food.columns)\n",
    "        .query('value != 0')\n",
    "        .groupby('variable')\n",
    "        .agg(mean_rating = ('value', 'mean'), count_rating = ('value', 'count'))\n",
    "    )\n",
    "    ratings = ratings.assign(rating = ratings['mean_rating'] * ratings['count_rating']).reset_index().sort_values('rating', ascending=False)\n",
    "    return ratings.head(num)"
   ]
  },
  {
   "cell_type": "code",
   "execution_count": 38,
   "id": "c68c82cf",
   "metadata": {},
   "outputs": [
    {
     "data": {
      "text/html": [
       "<div>\n",
       "<style scoped>\n",
       "    .dataframe tbody tr th:only-of-type {\n",
       "        vertical-align: middle;\n",
       "    }\n",
       "\n",
       "    .dataframe tbody tr th {\n",
       "        vertical-align: top;\n",
       "    }\n",
       "\n",
       "    .dataframe thead th {\n",
       "        text-align: right;\n",
       "    }\n",
       "</style>\n",
       "<table border=\"1\" class=\"dataframe\">\n",
       "  <thead>\n",
       "    <tr style=\"text-align: right;\">\n",
       "      <th></th>\n",
       "      <th>variable</th>\n",
       "      <th>mean_rating</th>\n",
       "      <th>count_rating</th>\n",
       "      <th>rating</th>\n",
       "    </tr>\n",
       "  </thead>\n",
       "  <tbody>\n",
       "    <tr>\n",
       "      <th>5</th>\n",
       "      <td>olives</td>\n",
       "      <td>8.538462</td>\n",
       "      <td>13</td>\n",
       "      <td>111.0</td>\n",
       "    </tr>\n",
       "    <tr>\n",
       "      <th>8</th>\n",
       "      <td>whisky</td>\n",
       "      <td>7.818182</td>\n",
       "      <td>11</td>\n",
       "      <td>86.0</td>\n",
       "    </tr>\n",
       "    <tr>\n",
       "      <th>2</th>\n",
       "      <td>broccoli</td>\n",
       "      <td>7.545455</td>\n",
       "      <td>11</td>\n",
       "      <td>83.0</td>\n",
       "    </tr>\n",
       "    <tr>\n",
       "      <th>1</th>\n",
       "      <td>blue_cheese</td>\n",
       "      <td>6.000000</td>\n",
       "      <td>13</td>\n",
       "      <td>78.0</td>\n",
       "    </tr>\n",
       "    <tr>\n",
       "      <th>4</th>\n",
       "      <td>hamburger</td>\n",
       "      <td>7.000000</td>\n",
       "      <td>11</td>\n",
       "      <td>77.0</td>\n",
       "    </tr>\n",
       "  </tbody>\n",
       "</table>\n",
       "</div>"
      ],
      "text/plain": [
       "      variable  mean_rating  count_rating  rating\n",
       "5       olives     8.538462            13   111.0\n",
       "8       whisky     7.818182            11    86.0\n",
       "2     broccoli     7.545455            11    83.0\n",
       "1  blue_cheese     6.000000            13    78.0\n",
       "4    hamburger     7.000000            11    77.0"
      ]
     },
     "execution_count": 38,
     "metadata": {},
     "output_type": "execute_result"
    }
   ],
   "source": [
    "popularity_rating(food,0,5)"
   ]
  },
  {
   "cell_type": "markdown",
   "id": "2b873f7b",
   "metadata": {},
   "source": [
    "## Item-based recommender system"
   ]
  },
  {
   "cell_type": "code",
   "execution_count": 39,
   "id": "30862a96",
   "metadata": {},
   "outputs": [
    {
     "data": {
      "image/png": "[encoded data removed]",
      "text/plain": [
       "<Figure size 432x288 with 1 Axes>"
      ]
     },
     "metadata": {
      "needs_background": "light"
     },
     "output_type": "display_data"
    }
   ],
   "source": [
    "import matplotlib.pyplot as plt\n",
    "import seaborn as sns\n",
    "\n",
    "sns.scatterplot(data=food, x='broccoli', y='peas')\n",
    "plt.title('Is there a correlation between this two foods?')\n",
    "plt.show()"
   ]
  },
  {
   "cell_type": "code",
   "execution_count": 40,
   "id": "6fe2f576",
   "metadata": {},
   "outputs": [
    {
     "data": {
      "text/plain": [
       "hamburger          -0.304354\n",
       "oysters (raw)      -0.142466\n",
       "blue_cheese        -0.094231\n",
       "whisky              0.007481\n",
       "olives              0.047733\n",
       "brussels_sprouts    0.102460\n",
       " onion (raw)        0.115584\n",
       "peas                0.327144\n",
       "broccoli            1.000000\n",
       "dtype: float64"
      ]
     },
     "execution_count": 40,
     "metadata": {},
     "output_type": "execute_result"
    }
   ],
   "source": [
    "food.corrwith(food['broccoli']).sort_values()"
   ]
  },
  {
   "cell_type": "markdown",
   "id": "d30f27ea",
   "metadata": {},
   "source": [
    "### Exercise\n",
    "\n",
    "Write a function that takes as inputs a food and a number of recommendations (n), and outputs the n most correlated foods"
   ]
  },
  {
   "cell_type": "code",
   "execution_count": 41,
   "id": "083fb38a",
   "metadata": {},
   "outputs": [],
   "source": [
    "def n_recommendations(food, food_title, n):\n",
    "    correlations = food.corrwith(food[food_title])\n",
    "    correlations.sort_values(ascending=False).head(20)\n",
    "    recommendation = pd.DataFrame(correlations,columns=['Correlation'])\n",
    "    recommendation.dropna(inplace=True)\n",
    "    recommendation = recommendation.join(Average_ratings['Total Ratings'])\n",
    "    recc = recommendation[recommendation['Total Ratings']>100].sort_values('Correlation',ascending=False).reset_index()\n",
    "    return list(recc.iloc[1:n+1].title)"
   ]
  },
  {
   "cell_type": "markdown",
   "id": "95642cbb-218c-41ba-a496-da6cdd9ced2f",
   "metadata": {},
   "source": [
    "## User-based recommender system"
   ]
  },
  {
   "cell_type": "markdown",
   "id": "48c475ad-f891-4114-a500-49856abbb89f",
   "metadata": {},
   "source": [
    "Steps to build a recommender system:\n",
    "    \n",
    "1. I know the foods that all users have eaten and the ones that have not and if they like or not.\n",
    "2. Based on that info, I can look at how similar one student is to the others. To achieve it, we can use the cosine distance. It will return us a value between 0 and 1; 0 will be closer to our user, and 1 would be far away from our user. To transform them as a similitude metric, we can apply: \n",
    "$$cosine\\ similitude = 1 - cosine\\ distance$$\n",
    "Then the students closer to each other will have a value closer to 1, and the other will be closer to 0. To know more information about cosine distance, I recommend to watch the following [video](https://www.youtube.com/watch?v=ieMjGVYw9ag).\n",
    "\n",
    "\n",
    "3. Once we have found the most similar user, we will ponderate the results to see which food has not been seen by our user that is closer to its ratings. \n",
    "\n",
    "Let's look at one example: "
   ]
  },
  {
   "cell_type": "markdown",
   "id": "58b7d532-f9cd-4e50-ac2e-ac40e823b169",
   "metadata": {},
   "source": [
    "### 1st iteration: small example"
   ]
  },
  {
   "cell_type": "code",
   "execution_count": 42,
   "id": "ab1499b9-2357-40f0-9f76-d1d57ef752a3",
   "metadata": {},
   "outputs": [
    {
     "data": {
      "text/html": [
       "<div>\n",
       "<style scoped>\n",
       "    .dataframe tbody tr th:only-of-type {\n",
       "        vertical-align: middle;\n",
       "    }\n",
       "\n",
       "    .dataframe tbody tr th {\n",
       "        vertical-align: top;\n",
       "    }\n",
       "\n",
       "    .dataframe thead th {\n",
       "        text-align: right;\n",
       "    }\n",
       "</style>\n",
       "<table border=\"1\" class=\"dataframe\">\n",
       "  <thead>\n",
       "    <tr style=\"text-align: right;\">\n",
       "      <th></th>\n",
       "      <th>broccoli</th>\n",
       "      <th>brussels_sprouts</th>\n",
       "      <th>hamburger</th>\n",
       "    </tr>\n",
       "    <tr>\n",
       "      <th>student</th>\n",
       "      <th></th>\n",
       "      <th></th>\n",
       "      <th></th>\n",
       "    </tr>\n",
       "  </thead>\n",
       "  <tbody>\n",
       "    <tr>\n",
       "      <th>Akbar</th>\n",
       "      <td>7</td>\n",
       "      <td>0</td>\n",
       "      <td>5</td>\n",
       "    </tr>\n",
       "    <tr>\n",
       "      <th>Andreas</th>\n",
       "      <td>7</td>\n",
       "      <td>7</td>\n",
       "      <td>7</td>\n",
       "    </tr>\n",
       "    <tr>\n",
       "      <th>Dónal</th>\n",
       "      <td>8</td>\n",
       "      <td>6</td>\n",
       "      <td>8</td>\n",
       "    </tr>\n",
       "    <tr>\n",
       "      <th>Hana</th>\n",
       "      <td>0</td>\n",
       "      <td>8</td>\n",
       "      <td>8</td>\n",
       "    </tr>\n",
       "  </tbody>\n",
       "</table>\n",
       "</div>"
      ],
      "text/plain": [
       "         broccoli  brussels_sprouts  hamburger\n",
       "student                                       \n",
       "Akbar           7                 0          5\n",
       "Andreas         7                 7          7\n",
       "Dónal           8                 6          8\n",
       "Hana            0                 8          8"
      ]
     },
     "execution_count": 42,
     "metadata": {},
     "output_type": "execute_result"
    }
   ],
   "source": [
    "sample = food.iloc[:4, :3].copy()\n",
    "sample"
   ]
  },
  {
   "cell_type": "markdown",
   "id": "148a7c69-53c6-458e-a2dd-e4d16935339d",
   "metadata": {},
   "source": [
    "In this small sample, we have 4 students who has rated 3 different foods. One of them, Shikha, has not rated the food **hamburger**, as its value is 0 (in that case is filled with 0, but in a lot of cases will be a `NaN`.\n",
    "\n",
    "The goal here will be to try to predict the rating she will give to it by looking at the rating that has been given for the closer student to her."
   ]
  },
  {
   "cell_type": "code",
   "execution_count": 43,
   "id": "bd8327b0-b566-49cf-bddb-06c25c373acf",
   "metadata": {},
   "outputs": [],
   "source": [
    "from sklearn.metrics.pairwise import cosine_distances"
   ]
  },
  {
   "cell_type": "code",
   "execution_count": 44,
   "id": "ebdbc578-3b3f-4493-b12a-9c3f9bdd857a",
   "metadata": {},
   "outputs": [
    {
     "data": {
      "text/html": [
       "<div>\n",
       "<style scoped>\n",
       "    .dataframe tbody tr th:only-of-type {\n",
       "        vertical-align: middle;\n",
       "    }\n",
       "\n",
       "    .dataframe tbody tr th {\n",
       "        vertical-align: top;\n",
       "    }\n",
       "\n",
       "    .dataframe thead th {\n",
       "        text-align: right;\n",
       "    }\n",
       "</style>\n",
       "<table border=\"1\" class=\"dataframe\">\n",
       "  <thead>\n",
       "    <tr style=\"text-align: right;\">\n",
       "      <th>student</th>\n",
       "      <th>Akbar</th>\n",
       "      <th>Andreas</th>\n",
       "      <th>Dónal</th>\n",
       "      <th>Hana</th>\n",
       "    </tr>\n",
       "    <tr>\n",
       "      <th>student</th>\n",
       "      <th></th>\n",
       "      <th></th>\n",
       "      <th></th>\n",
       "      <th></th>\n",
       "    </tr>\n",
       "  </thead>\n",
       "  <tbody>\n",
       "    <tr>\n",
       "      <th>Akbar</th>\n",
       "      <td>0.000000</td>\n",
       "      <td>0.194613</td>\n",
       "      <td>0.128568</td>\n",
       "      <td>0.589003</td>\n",
       "    </tr>\n",
       "    <tr>\n",
       "      <th>Andreas</th>\n",
       "      <td>0.194613</td>\n",
       "      <td>0.000000</td>\n",
       "      <td>0.008163</td>\n",
       "      <td>0.183503</td>\n",
       "    </tr>\n",
       "    <tr>\n",
       "      <th>Dónal</th>\n",
       "      <td>0.128568</td>\n",
       "      <td>0.008163</td>\n",
       "      <td>0.000000</td>\n",
       "      <td>0.226979</td>\n",
       "    </tr>\n",
       "    <tr>\n",
       "      <th>Hana</th>\n",
       "      <td>0.589003</td>\n",
       "      <td>0.183503</td>\n",
       "      <td>0.226979</td>\n",
       "      <td>0.000000</td>\n",
       "    </tr>\n",
       "  </tbody>\n",
       "</table>\n",
       "</div>"
      ],
      "text/plain": [
       "student     Akbar   Andreas     Dónal      Hana\n",
       "student                                        \n",
       "Akbar    0.000000  0.194613  0.128568  0.589003\n",
       "Andreas  0.194613  0.000000  0.008163  0.183503\n",
       "Dónal    0.128568  0.008163  0.000000  0.226979\n",
       "Hana     0.589003  0.183503  0.226979  0.000000"
      ]
     },
     "execution_count": 44,
     "metadata": {},
     "output_type": "execute_result"
    }
   ],
   "source": [
    "sample_distance = pd.DataFrame(cosine_distances(sample), columns=sample.index, index=sample.index)\n",
    "sample_distance"
   ]
  },
  {
   "cell_type": "markdown",
   "id": "3d7d7560-432c-4779-b071-9a7d745dffd9",
   "metadata": {},
   "source": [
    "Those are the distances between all the students. Let's transform them tom similitudes: "
   ]
  },
  {
   "cell_type": "code",
   "execution_count": 45,
   "id": "d18b6f88-adbe-416a-90e9-6480ce533fda",
   "metadata": {},
   "outputs": [
    {
     "data": {
      "text/html": [
       "<div>\n",
       "<style scoped>\n",
       "    .dataframe tbody tr th:only-of-type {\n",
       "        vertical-align: middle;\n",
       "    }\n",
       "\n",
       "    .dataframe tbody tr th {\n",
       "        vertical-align: top;\n",
       "    }\n",
       "\n",
       "    .dataframe thead th {\n",
       "        text-align: right;\n",
       "    }\n",
       "</style>\n",
       "<table border=\"1\" class=\"dataframe\">\n",
       "  <thead>\n",
       "    <tr style=\"text-align: right;\">\n",
       "      <th>student</th>\n",
       "      <th>Akbar</th>\n",
       "      <th>Andreas</th>\n",
       "      <th>Dónal</th>\n",
       "      <th>Hana</th>\n",
       "    </tr>\n",
       "    <tr>\n",
       "      <th>student</th>\n",
       "      <th></th>\n",
       "      <th></th>\n",
       "      <th></th>\n",
       "      <th></th>\n",
       "    </tr>\n",
       "  </thead>\n",
       "  <tbody>\n",
       "    <tr>\n",
       "      <th>Akbar</th>\n",
       "      <td>1.000000</td>\n",
       "      <td>0.805387</td>\n",
       "      <td>0.871432</td>\n",
       "      <td>0.410997</td>\n",
       "    </tr>\n",
       "    <tr>\n",
       "      <th>Andreas</th>\n",
       "      <td>0.805387</td>\n",
       "      <td>1.000000</td>\n",
       "      <td>0.991837</td>\n",
       "      <td>0.816497</td>\n",
       "    </tr>\n",
       "    <tr>\n",
       "      <th>Dónal</th>\n",
       "      <td>0.871432</td>\n",
       "      <td>0.991837</td>\n",
       "      <td>1.000000</td>\n",
       "      <td>0.773021</td>\n",
       "    </tr>\n",
       "    <tr>\n",
       "      <th>Hana</th>\n",
       "      <td>0.410997</td>\n",
       "      <td>0.816497</td>\n",
       "      <td>0.773021</td>\n",
       "      <td>1.000000</td>\n",
       "    </tr>\n",
       "  </tbody>\n",
       "</table>\n",
       "</div>"
      ],
      "text/plain": [
       "student     Akbar   Andreas     Dónal      Hana\n",
       "student                                        \n",
       "Akbar    1.000000  0.805387  0.871432  0.410997\n",
       "Andreas  0.805387  1.000000  0.991837  0.816497\n",
       "Dónal    0.871432  0.991837  1.000000  0.773021\n",
       "Hana     0.410997  0.816497  0.773021  1.000000"
      ]
     },
     "execution_count": 45,
     "metadata": {},
     "output_type": "execute_result"
    }
   ],
   "source": [
    "sample_similitude = pd.DataFrame(1 - cosine_distances(sample), columns=sample.index, index=sample.index)\n",
    "sample_similitude"
   ]
  },
  {
   "cell_type": "markdown",
   "id": "94f7e919-a0b1-4b5d-a293-84476e0ea92e",
   "metadata": {},
   "source": [
    "Once we transform it to similitudes, we can Shikha and Markus are the most similiar ones. \n",
    "\n",
    "Time to use this information to predict the rating will put to a hamburguer. We need to have the ratings that has been given for all the students to the hamburger, and how similar they are to Shikha:"
   ]
  },
  {
   "cell_type": "code",
   "execution_count": 46,
   "id": "14956de4-656b-4858-8059-2fb4031d4340",
   "metadata": {},
   "outputs": [
    {
     "name": "stdout",
     "output_type": "stream",
     "text": [
      "Hamburger ratings student\n",
      "Akbar      5\n",
      "Andreas    7\n",
      "Dónal      8\n",
      "Hana       8\n",
      "Name: hamburger, dtype: int64\n"
     ]
    },
    {
     "ename": "AttributeError",
     "evalue": "'DataFrame' object has no attribute 'Shikha'",
     "output_type": "error",
     "traceback": [
      "\u001b[1;31m---------------------------------------------------------------------------\u001b[0m",
      "\u001b[1;31mAttributeError\u001b[0m                            Traceback (most recent call last)",
      "\u001b[1;32m<ipython-input-46-54172a22c097>\u001b[0m in \u001b[0;36m<module>\u001b[1;34m\u001b[0m\n\u001b[0;32m      1\u001b[0m \u001b[0mprint\u001b[0m\u001b[1;33m(\u001b[0m\u001b[1;34m'Hamburger ratings'\u001b[0m\u001b[1;33m,\u001b[0m \u001b[0msample\u001b[0m\u001b[1;33m.\u001b[0m\u001b[0mhamburger\u001b[0m\u001b[1;33m)\u001b[0m\u001b[1;33m\u001b[0m\u001b[1;33m\u001b[0m\u001b[0m\n\u001b[1;32m----> 2\u001b[1;33m \u001b[0mprint\u001b[0m\u001b[1;33m(\u001b[0m\u001b[1;34m'Student similitudes to Shikha'\u001b[0m\u001b[1;33m,\u001b[0m \u001b[0msample_similitude\u001b[0m\u001b[1;33m.\u001b[0m\u001b[0mShikha\u001b[0m\u001b[1;33m)\u001b[0m\u001b[1;33m\u001b[0m\u001b[1;33m\u001b[0m\u001b[0m\n\u001b[0m",
      "\u001b[1;32m~\\anaconda3\\lib\\site-packages\\pandas\\core\\generic.py\u001b[0m in \u001b[0;36m__getattr__\u001b[1;34m(self, name)\u001b[0m\n\u001b[0;32m   5463\u001b[0m             \u001b[1;32mif\u001b[0m \u001b[0mself\u001b[0m\u001b[1;33m.\u001b[0m\u001b[0m_info_axis\u001b[0m\u001b[1;33m.\u001b[0m\u001b[0m_can_hold_identifiers_and_holds_name\u001b[0m\u001b[1;33m(\u001b[0m\u001b[0mname\u001b[0m\u001b[1;33m)\u001b[0m\u001b[1;33m:\u001b[0m\u001b[1;33m\u001b[0m\u001b[1;33m\u001b[0m\u001b[0m\n\u001b[0;32m   5464\u001b[0m                 \u001b[1;32mreturn\u001b[0m \u001b[0mself\u001b[0m\u001b[1;33m[\u001b[0m\u001b[0mname\u001b[0m\u001b[1;33m]\u001b[0m\u001b[1;33m\u001b[0m\u001b[1;33m\u001b[0m\u001b[0m\n\u001b[1;32m-> 5465\u001b[1;33m             \u001b[1;32mreturn\u001b[0m \u001b[0mobject\u001b[0m\u001b[1;33m.\u001b[0m\u001b[0m__getattribute__\u001b[0m\u001b[1;33m(\u001b[0m\u001b[0mself\u001b[0m\u001b[1;33m,\u001b[0m \u001b[0mname\u001b[0m\u001b[1;33m)\u001b[0m\u001b[1;33m\u001b[0m\u001b[1;33m\u001b[0m\u001b[0m\n\u001b[0m\u001b[0;32m   5466\u001b[0m \u001b[1;33m\u001b[0m\u001b[0m\n\u001b[0;32m   5467\u001b[0m     \u001b[1;32mdef\u001b[0m \u001b[0m__setattr__\u001b[0m\u001b[1;33m(\u001b[0m\u001b[0mself\u001b[0m\u001b[1;33m,\u001b[0m \u001b[0mname\u001b[0m\u001b[1;33m:\u001b[0m \u001b[0mstr\u001b[0m\u001b[1;33m,\u001b[0m \u001b[0mvalue\u001b[0m\u001b[1;33m)\u001b[0m \u001b[1;33m->\u001b[0m \u001b[1;32mNone\u001b[0m\u001b[1;33m:\u001b[0m\u001b[1;33m\u001b[0m\u001b[1;33m\u001b[0m\u001b[0m\n",
      "\u001b[1;31mAttributeError\u001b[0m: 'DataFrame' object has no attribute 'Shikha'"
     ]
    }
   ],
   "source": [
    "print('Hamburger ratings', sample.hamburger)\n",
    "print('Student similitudes to Shikha', sample_similitude.Shikha)"
   ]
  },
  {
   "cell_type": "markdown",
   "id": "012b4d63-44ff-47a4-8da6-4108561e19ba",
   "metadata": {},
   "source": [
    "Now let's weight each rating with the the student similitude and add all of them together:"
   ]
  },
  {
   "cell_type": "code",
   "execution_count": null,
   "id": "927f4b47-c563-443c-8830-4339f854aaf6",
   "metadata": {},
   "outputs": [
    {
     "data": {
      "text/plain": [
       "11.501306812879255"
      ]
     },
     "execution_count": 13,
     "metadata": {},
     "output_type": "execute_result"
    }
   ],
   "source": [
    "weighted_ratings = sum(sample.hamburger * sample_similitude.Shikha)\n",
    "weighted_ratings"
   ]
  },
  {
   "cell_type": "markdown",
   "id": "6abd1897-f12d-4d87-b475-d5e998332870",
   "metadata": {},
   "source": [
    "And the last step would be to ponderate it diving by all the similitudes:"
   ]
  },
  {
   "cell_type": "code",
   "execution_count": null,
   "id": "da8d66e9-632a-41eb-b991-343079cdfa68",
   "metadata": {},
   "outputs": [
    {
     "data": {
      "text/plain": [
       "4"
      ]
     },
     "execution_count": 17,
     "metadata": {},
     "output_type": "execute_result"
    }
   ],
   "source": [
    "round(weighted_ratings / (len(sample_similitude.Shikha) - 1))"
   ]
  },
  {
   "cell_type": "markdown",
   "id": "de8f78a2-3c05-4e15-bba1-affc381bfd9a",
   "metadata": {},
   "source": [
    "Rounding our result, Shikha will probably put a 4 to a hamburguer, a rating closer to Markus, who had a higher similitude."
   ]
  },
  {
   "cell_type": "markdown",
   "id": "0bc219b9-6c2c-4c37-b210-98d0516c2a97",
   "metadata": {},
   "source": [
    "### 2nd iteration: increasing our sample size\n",
    "\n",
    "We will increase the number of students with the same food, and see how works our methodoloy:"
   ]
  },
  {
   "cell_type": "code",
   "execution_count": null,
   "id": "a0038956-233d-41ff-bc55-bb3057fe69e6",
   "metadata": {},
   "outputs": [
    {
     "data": {
      "text/html": [
       "<div>\n",
       "<style scoped>\n",
       "    .dataframe tbody tr th:only-of-type {\n",
       "        vertical-align: middle;\n",
       "    }\n",
       "\n",
       "    .dataframe tbody tr th {\n",
       "        vertical-align: top;\n",
       "    }\n",
       "\n",
       "    .dataframe thead th {\n",
       "        text-align: right;\n",
       "    }\n",
       "</style>\n",
       "<table border=\"1\" class=\"dataframe\">\n",
       "  <thead>\n",
       "    <tr style=\"text-align: right;\">\n",
       "      <th></th>\n",
       "      <th>broccoli</th>\n",
       "      <th>brussels_sprouts</th>\n",
       "      <th>hamburger</th>\n",
       "    </tr>\n",
       "    <tr>\n",
       "      <th>student</th>\n",
       "      <th></th>\n",
       "      <th></th>\n",
       "      <th></th>\n",
       "    </tr>\n",
       "  </thead>\n",
       "  <tbody>\n",
       "    <tr>\n",
       "      <th>Markus</th>\n",
       "      <td>8</td>\n",
       "      <td>8</td>\n",
       "      <td>1</td>\n",
       "    </tr>\n",
       "    <tr>\n",
       "      <th>Peter</th>\n",
       "      <td>6</td>\n",
       "      <td>6</td>\n",
       "      <td>8</td>\n",
       "    </tr>\n",
       "    <tr>\n",
       "      <th>Shikha</th>\n",
       "      <td>7</td>\n",
       "      <td>1</td>\n",
       "      <td>0</td>\n",
       "    </tr>\n",
       "    <tr>\n",
       "      <th>Hashim</th>\n",
       "      <td>8</td>\n",
       "      <td>2</td>\n",
       "      <td>9</td>\n",
       "    </tr>\n",
       "    <tr>\n",
       "      <th>Lina</th>\n",
       "      <td>7</td>\n",
       "      <td>6</td>\n",
       "      <td>6</td>\n",
       "    </tr>\n",
       "    <tr>\n",
       "      <th>David</th>\n",
       "      <td>9</td>\n",
       "      <td>9</td>\n",
       "      <td>9</td>\n",
       "    </tr>\n",
       "    <tr>\n",
       "      <th>Khader</th>\n",
       "      <td>10</td>\n",
       "      <td>10</td>\n",
       "      <td>6</td>\n",
       "    </tr>\n",
       "    <tr>\n",
       "      <th>Archana</th>\n",
       "      <td>10</td>\n",
       "      <td>7</td>\n",
       "      <td>0</td>\n",
       "    </tr>\n",
       "    <tr>\n",
       "      <th>Vitaly</th>\n",
       "      <td>6</td>\n",
       "      <td>6</td>\n",
       "      <td>10</td>\n",
       "    </tr>\n",
       "    <tr>\n",
       "      <th>Joan</th>\n",
       "      <td>6</td>\n",
       "      <td>0</td>\n",
       "      <td>8</td>\n",
       "    </tr>\n",
       "  </tbody>\n",
       "</table>\n",
       "</div>"
      ],
      "text/plain": [
       "         broccoli  brussels_sprouts  hamburger\n",
       "student                                       \n",
       "Markus          8                 8          1\n",
       "Peter           6                 6          8\n",
       "Shikha          7                 1          0\n",
       "Hashim          8                 2          9\n",
       "Lina            7                 6          6\n",
       "David           9                 9          9\n",
       "Khader         10                10          6\n",
       "Archana        10                 7          0\n",
       "Vitaly          6                 6         10\n",
       "Joan            6                 0          8"
      ]
     },
     "execution_count": 18,
     "metadata": {},
     "output_type": "execute_result"
    }
   ],
   "source": [
    "sample = food.iloc[:,:3].copy()\n",
    "sample"
   ]
  },
  {
   "cell_type": "markdown",
   "id": "a3771206-637f-4070-af21-2d154b71530e",
   "metadata": {},
   "source": [
    "In that case we only have 2 students who have never tasted the hamburguer. We will follow the same process as before to predict which ratings will be given: "
   ]
  },
  {
   "cell_type": "code",
   "execution_count": null,
   "id": "45315295-42e4-4e52-98d8-b5756b5ad8fb",
   "metadata": {},
   "outputs": [
    {
     "name": "stdout",
     "output_type": "stream",
     "text": [
      "Shikha prediction is 4, and Archana is 4\n"
     ]
    }
   ],
   "source": [
    "from sklearn.metrics.pairwise import cosine_similarity\n",
    "sample_similitude = pd.DataFrame(cosine_similarity(sample), columns=food.index, index=food.index)\n",
    "\n",
    "shikha_pred = sum(sample.hamburger * sample_similitude.Shikha) / (len(sample_similitude.Shikha) - 1)\n",
    "archana_pred = sum(sample.hamburger * sample_similitude.Archana) / (len(sample_similitude.Archana) - 1)\n",
    "print(f'Shikha prediction is {round(shikha_pred)}, and Archana is {round(archana_pred)}')"
   ]
  },
  {
   "cell_type": "code",
   "execution_count": null,
   "id": "70d7ff8b-3c67-4ee5-8b8b-47927cec9d53",
   "metadata": {},
   "outputs": [
    {
     "name": "stdout",
     "output_type": "stream",
     "text": [
      "Hamburguer mean rating:  5.7\n"
     ]
    }
   ],
   "source": [
    "print('Hamburguer mean rating: ', sum(sample.hamburger) / len(sample.hamburger))"
   ]
  },
  {
   "cell_type": "markdown",
   "id": "d290accf-952a-49c1-adba-270681386332",
   "metadata": {},
   "source": [
    "We can see that both has been placed below the mean, as they are more similiar to Markus, who has rated hamburguers with a 1."
   ]
  },
  {
   "cell_type": "markdown",
   "id": "4eecace4-55a2-4afd-a3cd-c89d48fc49ca",
   "metadata": {},
   "source": [
    "### 3rd iteration: evaluating our model"
   ]
  },
  {
   "cell_type": "markdown",
   "id": "83bff8a2-2dc7-4f07-bf20-c8637f1b0561",
   "metadata": {},
   "source": [
    "In order to test our model, we will need to find a way create a train and a test set without exluding any of our students, as we need the similitudes to all of our students to rate them correctly. \n",
    "\n",
    "Let's look a small example: "
   ]
  },
  {
   "cell_type": "code",
   "execution_count": null,
   "id": "d896e3d1-4846-4703-9ca8-0ce82b8d4f71",
   "metadata": {},
   "outputs": [
    {
     "data": {
      "text/html": [
       "<div>\n",
       "<style scoped>\n",
       "    .dataframe tbody tr th:only-of-type {\n",
       "        vertical-align: middle;\n",
       "    }\n",
       "\n",
       "    .dataframe tbody tr th {\n",
       "        vertical-align: top;\n",
       "    }\n",
       "\n",
       "    .dataframe thead th {\n",
       "        text-align: right;\n",
       "    }\n",
       "</style>\n",
       "<table border=\"1\" class=\"dataframe\">\n",
       "  <thead>\n",
       "    <tr style=\"text-align: right;\">\n",
       "      <th></th>\n",
       "      <th>broccoli</th>\n",
       "      <th>brussels_sprouts</th>\n",
       "      <th>hamburger</th>\n",
       "    </tr>\n",
       "    <tr>\n",
       "      <th>student</th>\n",
       "      <th></th>\n",
       "      <th></th>\n",
       "      <th></th>\n",
       "    </tr>\n",
       "  </thead>\n",
       "  <tbody>\n",
       "    <tr>\n",
       "      <th>Markus</th>\n",
       "      <td>8</td>\n",
       "      <td>8</td>\n",
       "      <td>1</td>\n",
       "    </tr>\n",
       "    <tr>\n",
       "      <th>Peter</th>\n",
       "      <td>6</td>\n",
       "      <td>6</td>\n",
       "      <td>8</td>\n",
       "    </tr>\n",
       "    <tr>\n",
       "      <th>Shikha</th>\n",
       "      <td>7</td>\n",
       "      <td>1</td>\n",
       "      <td>0</td>\n",
       "    </tr>\n",
       "  </tbody>\n",
       "</table>\n",
       "</div>"
      ],
      "text/plain": [
       "         broccoli  brussels_sprouts  hamburger\n",
       "student                                       \n",
       "Markus          8                 8          1\n",
       "Peter           6                 6          8\n",
       "Shikha          7                 1          0"
      ]
     },
     "execution_count": 13,
     "metadata": {},
     "output_type": "execute_result"
    }
   ],
   "source": [
    "sample = food.iloc[:3, :3].copy()\n",
    "sample"
   ]
  },
  {
   "cell_type": "markdown",
   "id": "7571ca05-b426-4241-b7d2-ffe87e2c1c6a",
   "metadata": {},
   "source": [
    "In case I would like to use this sample to train and test a recommender system, I can create a train set which I have replaced some values to 0 from specific locations, and store these values on a test set to check them later. "
   ]
  },
  {
   "cell_type": "code",
   "execution_count": null,
   "id": "330d6889-42da-4aef-82cd-b5f39972d0a2",
   "metadata": {},
   "outputs": [
    {
     "data": {
      "text/html": [
       "<div>\n",
       "<style scoped>\n",
       "    .dataframe tbody tr th:only-of-type {\n",
       "        vertical-align: middle;\n",
       "    }\n",
       "\n",
       "    .dataframe tbody tr th {\n",
       "        vertical-align: top;\n",
       "    }\n",
       "\n",
       "    .dataframe thead th {\n",
       "        text-align: right;\n",
       "    }\n",
       "</style>\n",
       "<table border=\"1\" class=\"dataframe\">\n",
       "  <thead>\n",
       "    <tr style=\"text-align: right;\">\n",
       "      <th></th>\n",
       "      <th>broccoli</th>\n",
       "      <th>brussels_sprouts</th>\n",
       "      <th>hamburger</th>\n",
       "    </tr>\n",
       "    <tr>\n",
       "      <th>student</th>\n",
       "      <th></th>\n",
       "      <th></th>\n",
       "      <th></th>\n",
       "    </tr>\n",
       "  </thead>\n",
       "  <tbody>\n",
       "    <tr>\n",
       "      <th>Markus</th>\n",
       "      <td>8</td>\n",
       "      <td>0</td>\n",
       "      <td>1</td>\n",
       "    </tr>\n",
       "    <tr>\n",
       "      <th>Peter</th>\n",
       "      <td>0</td>\n",
       "      <td>6</td>\n",
       "      <td>8</td>\n",
       "    </tr>\n",
       "    <tr>\n",
       "      <th>Shikha</th>\n",
       "      <td>7</td>\n",
       "      <td>1</td>\n",
       "      <td>0</td>\n",
       "    </tr>\n",
       "    <tr>\n",
       "      <th>Hashim</th>\n",
       "      <td>8</td>\n",
       "      <td>2</td>\n",
       "      <td>9</td>\n",
       "    </tr>\n",
       "    <tr>\n",
       "      <th>Lina</th>\n",
       "      <td>7</td>\n",
       "      <td>6</td>\n",
       "      <td>6</td>\n",
       "    </tr>\n",
       "    <tr>\n",
       "      <th>David</th>\n",
       "      <td>9</td>\n",
       "      <td>9</td>\n",
       "      <td>9</td>\n",
       "    </tr>\n",
       "    <tr>\n",
       "      <th>Khader</th>\n",
       "      <td>10</td>\n",
       "      <td>10</td>\n",
       "      <td>6</td>\n",
       "    </tr>\n",
       "    <tr>\n",
       "      <th>Archana</th>\n",
       "      <td>10</td>\n",
       "      <td>7</td>\n",
       "      <td>0</td>\n",
       "    </tr>\n",
       "    <tr>\n",
       "      <th>Vitaly</th>\n",
       "      <td>6</td>\n",
       "      <td>6</td>\n",
       "      <td>10</td>\n",
       "    </tr>\n",
       "    <tr>\n",
       "      <th>Joan</th>\n",
       "      <td>6</td>\n",
       "      <td>0</td>\n",
       "      <td>8</td>\n",
       "    </tr>\n",
       "  </tbody>\n",
       "</table>\n",
       "</div>"
      ],
      "text/plain": [
       "         broccoli  brussels_sprouts  hamburger\n",
       "student                                       \n",
       "Markus          8                 0          1\n",
       "Peter           0                 6          8\n",
       "Shikha          7                 1          0\n",
       "Hashim          8                 2          9\n",
       "Lina            7                 6          6\n",
       "David           9                 9          9\n",
       "Khader         10                10          6\n",
       "Archana        10                 7          0\n",
       "Vitaly          6                 6         10\n",
       "Joan            6                 0          8"
      ]
     },
     "execution_count": 23,
     "metadata": {},
     "output_type": "execute_result"
    }
   ],
   "source": [
    "# Train\n",
    "train = sample.copy()\n",
    "train.iloc[0,1] = 0 # markus brussel sprouts is replaced by 0\n",
    "train.iloc[1,0] = 0 # Peter broccoli is replaced by 0\n",
    "train"
   ]
  },
  {
   "cell_type": "code",
   "execution_count": null,
   "id": "a430c16f-e48f-4330-ba52-3abbcea057f7",
   "metadata": {},
   "outputs": [
    {
     "data": {
      "text/html": [
       "<div>\n",
       "<style scoped>\n",
       "    .dataframe tbody tr th:only-of-type {\n",
       "        vertical-align: middle;\n",
       "    }\n",
       "\n",
       "    .dataframe tbody tr th {\n",
       "        vertical-align: top;\n",
       "    }\n",
       "\n",
       "    .dataframe thead th {\n",
       "        text-align: right;\n",
       "    }\n",
       "</style>\n",
       "<table border=\"1\" class=\"dataframe\">\n",
       "  <thead>\n",
       "    <tr style=\"text-align: right;\">\n",
       "      <th></th>\n",
       "      <th>broccoli</th>\n",
       "      <th>brussels_sprouts</th>\n",
       "      <th>hamburger</th>\n",
       "    </tr>\n",
       "    <tr>\n",
       "      <th>student</th>\n",
       "      <th></th>\n",
       "      <th></th>\n",
       "      <th></th>\n",
       "    </tr>\n",
       "  </thead>\n",
       "  <tbody>\n",
       "    <tr>\n",
       "      <th>Markus</th>\n",
       "      <td>0</td>\n",
       "      <td>8</td>\n",
       "      <td>0</td>\n",
       "    </tr>\n",
       "    <tr>\n",
       "      <th>Peter</th>\n",
       "      <td>8</td>\n",
       "      <td>0</td>\n",
       "      <td>0</td>\n",
       "    </tr>\n",
       "    <tr>\n",
       "      <th>Shikha</th>\n",
       "      <td>0</td>\n",
       "      <td>0</td>\n",
       "      <td>0</td>\n",
       "    </tr>\n",
       "    <tr>\n",
       "      <th>Hashim</th>\n",
       "      <td>0</td>\n",
       "      <td>0</td>\n",
       "      <td>0</td>\n",
       "    </tr>\n",
       "    <tr>\n",
       "      <th>Lina</th>\n",
       "      <td>0</td>\n",
       "      <td>0</td>\n",
       "      <td>0</td>\n",
       "    </tr>\n",
       "    <tr>\n",
       "      <th>David</th>\n",
       "      <td>0</td>\n",
       "      <td>0</td>\n",
       "      <td>0</td>\n",
       "    </tr>\n",
       "    <tr>\n",
       "      <th>Khader</th>\n",
       "      <td>0</td>\n",
       "      <td>0</td>\n",
       "      <td>0</td>\n",
       "    </tr>\n",
       "    <tr>\n",
       "      <th>Archana</th>\n",
       "      <td>0</td>\n",
       "      <td>0</td>\n",
       "      <td>0</td>\n",
       "    </tr>\n",
       "    <tr>\n",
       "      <th>Vitaly</th>\n",
       "      <td>0</td>\n",
       "      <td>0</td>\n",
       "      <td>0</td>\n",
       "    </tr>\n",
       "    <tr>\n",
       "      <th>Joan</th>\n",
       "      <td>0</td>\n",
       "      <td>0</td>\n",
       "      <td>0</td>\n",
       "    </tr>\n",
       "  </tbody>\n",
       "</table>\n",
       "</div>"
      ],
      "text/plain": [
       "         broccoli  brussels_sprouts  hamburger\n",
       "student                                       \n",
       "Markus          0                 8          0\n",
       "Peter           8                 0          0\n",
       "Shikha          0                 0          0\n",
       "Hashim          0                 0          0\n",
       "Lina            0                 0          0\n",
       "David           0                 0          0\n",
       "Khader          0                 0          0\n",
       "Archana         0                 0          0\n",
       "Vitaly          0                 0          0\n",
       "Joan            0                 0          0"
      ]
     },
     "execution_count": 25,
     "metadata": {},
     "output_type": "execute_result"
    }
   ],
   "source": [
    "import numpy as np\n",
    "test = (\n",
    "    pd.DataFrame(\n",
    "        np.zeros(sample.shape), # create a matrix full of 0 of the same shape than the sample\n",
    "        columns=sample.columns, index=sample.index\n",
    "    )\n",
    "    .apply(pd.to_numeric, downcast='integer')\n",
    ")\n",
    "test.iloc[0,1] = sample.iloc[0,1]\n",
    "test.iloc[1,0] = sample.iloc[0,1]\n",
    "test"
   ]
  },
  {
   "cell_type": "markdown",
   "id": "44c01fdd-cf93-44b5-ac1b-699aefd2548d",
   "metadata": {},
   "source": [
    "The test set only contains the values we excluded on the train set. Time to train our model and see how it performs (probably bad, as the sample is really small): "
   ]
  },
  {
   "cell_type": "code",
   "execution_count": null,
   "id": "3d842af1-a50a-45d3-93ce-fdccbf814593",
   "metadata": {},
   "outputs": [
    {
     "name": "stdout",
     "output_type": "stream",
     "text": [
      "\n",
      "    Markust rating as 8 and its predictions is 3.2201747039491693, \n",
      "    Peter rating as 6 and its predictions is 4.347891549713169 \n",
      "    \n"
     ]
    }
   ],
   "source": [
    "train_similitude = pd.DataFrame(cosine_similarity(train), columns=sample.index, index=sample.index)\n",
    "\n",
    "markus_pred = sum(train.brussels_sprouts * train_similitude.Markus) / (len(train_similitude.Markus) - 1)\n",
    "peter_pred = sum(train.broccoli * train_similitude.Peter) / (len(train_similitude.Peter) - 1)\n",
    "print(\n",
    "    f\"\"\"\n",
    "    Markust rating as {sample.iloc[0,1]} and its predictions is {markus_pred}, \n",
    "    Peter rating as {sample.iloc[1,0]} and its predictions is {peter_pred} \n",
    "    \"\"\"\n",
    ")"
   ]
  },
  {
   "cell_type": "markdown",
   "id": "ec7a4dc6-14fe-47aa-ab70-7bbe83fc134c",
   "metadata": {},
   "source": [
    "This dataset is quite small, so let's see if we increase the number of students we have better results:"
   ]
  },
  {
   "cell_type": "code",
   "execution_count": null,
   "id": "48817a78-c03b-4fba-9870-9e3066c3a4f3",
   "metadata": {},
   "outputs": [
    {
     "name": "stdout",
     "output_type": "stream",
     "text": [
      "\n",
      "    Markust rating as 8 and its predictions is 3.2201747039491693, \n",
      "    Peter rating as 6 and its predictions is 4.347891549713169 \n",
      "    \n"
     ]
    }
   ],
   "source": [
    "sample = food.iloc[:, :3].copy()\n",
    "# Train\n",
    "train = sample.copy()\n",
    "train.iloc[0,1] = 0 # markus brussel sprouts is replaced by 0\n",
    "train.iloc[1,0] = 0 # Peter broccoli is replaced by 0\n",
    "# Test\n",
    "test = (\n",
    "    pd.DataFrame(\n",
    "        np.zeros(sample.shape), # create a matrix full of 0 of the same shape than the sample\n",
    "        columns=sample.columns, index=sample.index\n",
    "    )\n",
    "    .apply(pd.to_numeric, downcast='integer')\n",
    ")\n",
    "test.iloc[0,1] = sample.iloc[0,1]\n",
    "test.iloc[1,0] = sample.iloc[0,1]\n",
    "# train the model\n",
    "train_similitude = pd.DataFrame(cosine_similarity(train), columns=sample.index, index=sample.index)\n",
    "# Predictions\n",
    "markus_pred = sum(train.brussels_sprouts * train_similitude.Markus) / (len(train_similitude.Markus) - 1)\n",
    "peter_pred = sum(train.broccoli * train_similitude.Peter) / (len(train_similitude.Peter) - 1)\n",
    "print(\n",
    "    f\"\"\"\n",
    "    Markust rating as {sample.iloc[0,1]} and its predictions is {markus_pred}, \n",
    "    Peter rating as {sample.iloc[1,0]} and its predictions is {peter_pred} \n",
    "    \"\"\"\n",
    ")"
   ]
  },
  {
   "cell_type": "markdown",
   "id": "5140f78c-9265-4e2a-b562-1c52c4b33c9a",
   "metadata": {},
   "source": [
    "The predictions from Markus got closer to its real value, 8, while Peter has not really had a great impact. We can add more food ratings, to see if that helps us to increare Markus rating."
   ]
  },
  {
   "cell_type": "code",
   "execution_count": null,
   "id": "67f7e5b6-8583-428c-86f3-b251a6e87074",
   "metadata": {
    "tags": []
   },
   "outputs": [
    {
     "name": "stdout",
     "output_type": "stream",
     "text": [
      "\n",
      "    Markust rating as 8 and its predictions is 3.6968764608119735, \n",
      "    Peter rating as 6 and its predictions is 5.1091470754509185 \n",
      "    \n"
     ]
    }
   ],
   "source": [
    "sample = food.copy()\n",
    "# Train\n",
    "train = sample.copy()\n",
    "train.iloc[0,1] = 0 # markus brussel sprouts is replaced by 0\n",
    "train.iloc[1,0] = 0 # Peter broccoli is replaced by 0\n",
    "# Test\n",
    "test = (\n",
    "    pd.DataFrame(\n",
    "        np.zeros(sample.shape), # create a matrix full of 0 of the same shape than the sample\n",
    "        columns=sample.columns, index=sample.index\n",
    "    )\n",
    "    .apply(pd.to_numeric, downcast='integer')\n",
    ")\n",
    "test.iloc[0,1] = sample.iloc[0,1]\n",
    "test.iloc[1,0] = sample.iloc[0,1]\n",
    "# train the model\n",
    "train_similitude = pd.DataFrame(cosine_similarity(train), columns=sample.index, index=sample.index)\n",
    "# Predictions\n",
    "markus_pred = sum(train.brussels_sprouts * train_similitude.Markus) / (len(train_similitude.Markus))\n",
    "peter_pred = sum(train.broccoli * train_similitude.Peter) / (len(train_similitude.Peter))\n",
    "print(\n",
    "    f\"\"\"\n",
    "    Markust rating as {sample.iloc[0,1]} and its predictions is {markus_pred}, \n",
    "    Peter rating as {sample.iloc[1,0]} and its predictions is {peter_pred} \n",
    "    \"\"\"\n",
    ")"
   ]
  },
  {
   "cell_type": "markdown",
   "id": "7c0bc6db-3464-40aa-8bee-5e744c1b6c30",
   "metadata": {},
   "source": [
    "### 4th iteration: choosing closer neighbours\n",
    "\n",
    "Let's see if we can improve our predictions by picking only the closer K neighbours. In our case we will pick 4 neighbours."
   ]
  },
  {
   "cell_type": "code",
   "execution_count": null,
   "id": "6b775dd6-f990-41a4-b772-0a6cef11e496",
   "metadata": {},
   "outputs": [
    {
     "data": {
      "text/html": [
       "<div>\n",
       "<style scoped>\n",
       "    .dataframe tbody tr th:only-of-type {\n",
       "        vertical-align: middle;\n",
       "    }\n",
       "\n",
       "    .dataframe tbody tr th {\n",
       "        vertical-align: top;\n",
       "    }\n",
       "\n",
       "    .dataframe thead th {\n",
       "        text-align: right;\n",
       "    }\n",
       "</style>\n",
       "<table border=\"1\" class=\"dataframe\">\n",
       "  <thead>\n",
       "    <tr style=\"text-align: right;\">\n",
       "      <th></th>\n",
       "      <th>broccoli</th>\n",
       "      <th>brussels_sprouts</th>\n",
       "      <th>hamburger</th>\n",
       "    </tr>\n",
       "    <tr>\n",
       "      <th>student</th>\n",
       "      <th></th>\n",
       "      <th></th>\n",
       "      <th></th>\n",
       "    </tr>\n",
       "  </thead>\n",
       "  <tbody>\n",
       "    <tr>\n",
       "      <th>Markus</th>\n",
       "      <td>8</td>\n",
       "      <td>8</td>\n",
       "      <td>1</td>\n",
       "    </tr>\n",
       "    <tr>\n",
       "      <th>Peter</th>\n",
       "      <td>6</td>\n",
       "      <td>6</td>\n",
       "      <td>8</td>\n",
       "    </tr>\n",
       "    <tr>\n",
       "      <th>Shikha</th>\n",
       "      <td>7</td>\n",
       "      <td>1</td>\n",
       "      <td>0</td>\n",
       "    </tr>\n",
       "    <tr>\n",
       "      <th>Hashim</th>\n",
       "      <td>8</td>\n",
       "      <td>2</td>\n",
       "      <td>9</td>\n",
       "    </tr>\n",
       "    <tr>\n",
       "      <th>Lina</th>\n",
       "      <td>7</td>\n",
       "      <td>6</td>\n",
       "      <td>6</td>\n",
       "    </tr>\n",
       "    <tr>\n",
       "      <th>David</th>\n",
       "      <td>9</td>\n",
       "      <td>9</td>\n",
       "      <td>9</td>\n",
       "    </tr>\n",
       "    <tr>\n",
       "      <th>Khader</th>\n",
       "      <td>10</td>\n",
       "      <td>10</td>\n",
       "      <td>6</td>\n",
       "    </tr>\n",
       "    <tr>\n",
       "      <th>Archana</th>\n",
       "      <td>10</td>\n",
       "      <td>7</td>\n",
       "      <td>0</td>\n",
       "    </tr>\n",
       "    <tr>\n",
       "      <th>Vitaly</th>\n",
       "      <td>6</td>\n",
       "      <td>6</td>\n",
       "      <td>10</td>\n",
       "    </tr>\n",
       "    <tr>\n",
       "      <th>Joan</th>\n",
       "      <td>6</td>\n",
       "      <td>0</td>\n",
       "      <td>8</td>\n",
       "    </tr>\n",
       "  </tbody>\n",
       "</table>\n",
       "</div>"
      ],
      "text/plain": [
       "         broccoli  brussels_sprouts  hamburger\n",
       "student                                       \n",
       "Markus          8                 8          1\n",
       "Peter           6                 6          8\n",
       "Shikha          7                 1          0\n",
       "Hashim          8                 2          9\n",
       "Lina            7                 6          6\n",
       "David           9                 9          9\n",
       "Khader         10                10          6\n",
       "Archana        10                 7          0\n",
       "Vitaly          6                 6         10\n",
       "Joan            6                 0          8"
      ]
     },
     "execution_count": 19,
     "metadata": {},
     "output_type": "execute_result"
    }
   ],
   "source": [
    "sample = food.iloc[:, :3].copy()\n",
    "sample"
   ]
  },
  {
   "cell_type": "code",
   "execution_count": null,
   "id": "000cc3f9-6dfc-4fa1-a010-15dd8104dd24",
   "metadata": {
    "tags": []
   },
   "outputs": [
    {
     "name": "stdout",
     "output_type": "stream",
     "text": [
      "         ratings  similitudes  weighted_ratings\n",
      "student                                        \n",
      "Shikha         1     0.875115          0.875115\n",
      "Khader        10     0.848787          8.487875\n",
      "Vitaly         6     0.834604          5.007624\n",
      "\n",
      "    Markust rating as 8 and its predictions is 4.7902044747111505, \n",
      "    \n"
     ]
    }
   ],
   "source": [
    "# Train\n",
    "train = sample.copy()\n",
    "train.iloc[0,1] = 0 # markus brussel sprouts is replaced by 0\n",
    "train.iloc[1,0] = 0 # Peter broccoli is replaced by 0\n",
    "# Test\n",
    "test = (pd.DataFrame(np.zeros(sample.shape), columns=sample.columns, index=sample.index)\n",
    "        .apply(pd.to_numeric, downcast='integer'))\n",
    "test.iloc[0,1] = sample.iloc[0,1]\n",
    "test.iloc[1,0] = sample.iloc[0,1]\n",
    "\n",
    "# train the model\n",
    "train_similitude = pd.DataFrame(cosine_similarity(train), columns=sample.index, index=sample.index)\n",
    "\n",
    "# select only the closer neigbours \n",
    "weighted_ratings = (\n",
    "pd.DataFrame({'ratings': train.brussels_sprouts,\n",
    "              'similitudes': train_similitude.Markus})\n",
    "    .sort_values('similitudes', ascending=False) # order values with higher similitudes\n",
    "    .head(5) # select Markus + the 4 closer neigbours\n",
    "    .query('ratings != 0') # filter the similitude 1, which is the own student\n",
    "    .assign(weighted_ratings = lambda x: x.ratings * x.similitudes) # weight the food and similitudes\n",
    ")\n",
    "print(weighted_ratings)\n",
    "# calculate the ponderated weight\n",
    "markus_pred = sum(weighted_ratings.weighted_ratings) / len(weighted_ratings.similitudes)\n",
    "print(\n",
    "    f\"\"\"\n",
    "    Markust rating as {sample.iloc[0,1]} and its predictions is {markus_pred}, \n",
    "    \"\"\"\n",
    ")"
   ]
  },
  {
   "cell_type": "markdown",
   "id": "59fff036-275d-40fb-bedb-5dafbd79b4d2",
   "metadata": {},
   "source": [
    "### 6th iteration: creating a smarter way to split the data between train and \n",
    "\n",
    "#### 1st: Let's find out all the ratings positions in this dataset different than 0"
   ]
  },
  {
   "cell_type": "code",
   "execution_count": null,
   "id": "f34ca362-e8b9-4fdb-916d-95cab77e7714",
   "metadata": {},
   "outputs": [
    {
     "data": {
      "text/html": [
       "<div>\n",
       "<style scoped>\n",
       "    .dataframe tbody tr th:only-of-type {\n",
       "        vertical-align: middle;\n",
       "    }\n",
       "\n",
       "    .dataframe tbody tr th {\n",
       "        vertical-align: top;\n",
       "    }\n",
       "\n",
       "    .dataframe thead th {\n",
       "        text-align: right;\n",
       "    }\n",
       "</style>\n",
       "<table border=\"1\" class=\"dataframe\">\n",
       "  <thead>\n",
       "    <tr style=\"text-align: right;\">\n",
       "      <th></th>\n",
       "      <th>broccoli</th>\n",
       "      <th>brussels_sprouts</th>\n",
       "      <th>hamburger</th>\n",
       "      <th>oysters (raw)</th>\n",
       "      <th>onion (raw)</th>\n",
       "      <th>peas</th>\n",
       "      <th>olives</th>\n",
       "      <th>blue_cheese</th>\n",
       "      <th>whisky</th>\n",
       "    </tr>\n",
       "    <tr>\n",
       "      <th>student</th>\n",
       "      <th></th>\n",
       "      <th></th>\n",
       "      <th></th>\n",
       "      <th></th>\n",
       "      <th></th>\n",
       "      <th></th>\n",
       "      <th></th>\n",
       "      <th></th>\n",
       "      <th></th>\n",
       "    </tr>\n",
       "  </thead>\n",
       "  <tbody>\n",
       "    <tr>\n",
       "      <th>Markus</th>\n",
       "      <td>8</td>\n",
       "      <td>8</td>\n",
       "      <td>1</td>\n",
       "      <td>0</td>\n",
       "      <td>10</td>\n",
       "      <td>7</td>\n",
       "      <td>9</td>\n",
       "      <td>9</td>\n",
       "      <td>2</td>\n",
       "    </tr>\n",
       "    <tr>\n",
       "      <th>Peter</th>\n",
       "      <td>6</td>\n",
       "      <td>6</td>\n",
       "      <td>8</td>\n",
       "      <td>7</td>\n",
       "      <td>3</td>\n",
       "      <td>7</td>\n",
       "      <td>8</td>\n",
       "      <td>10</td>\n",
       "      <td>7</td>\n",
       "    </tr>\n",
       "    <tr>\n",
       "      <th>Shikha</th>\n",
       "      <td>7</td>\n",
       "      <td>1</td>\n",
       "      <td>0</td>\n",
       "      <td>0</td>\n",
       "      <td>10</td>\n",
       "      <td>10</td>\n",
       "      <td>6</td>\n",
       "      <td>1</td>\n",
       "      <td>0</td>\n",
       "    </tr>\n",
       "    <tr>\n",
       "      <th>Hashim</th>\n",
       "      <td>8</td>\n",
       "      <td>2</td>\n",
       "      <td>9</td>\n",
       "      <td>5</td>\n",
       "      <td>2</td>\n",
       "      <td>9</td>\n",
       "      <td>8</td>\n",
       "      <td>6</td>\n",
       "      <td>1</td>\n",
       "    </tr>\n",
       "    <tr>\n",
       "      <th>Lina</th>\n",
       "      <td>7</td>\n",
       "      <td>6</td>\n",
       "      <td>6</td>\n",
       "      <td>0</td>\n",
       "      <td>7</td>\n",
       "      <td>7</td>\n",
       "      <td>10</td>\n",
       "      <td>0</td>\n",
       "      <td>3</td>\n",
       "    </tr>\n",
       "    <tr>\n",
       "      <th>David</th>\n",
       "      <td>9</td>\n",
       "      <td>9</td>\n",
       "      <td>9</td>\n",
       "      <td>9</td>\n",
       "      <td>9</td>\n",
       "      <td>9</td>\n",
       "      <td>9</td>\n",
       "      <td>8</td>\n",
       "      <td>5</td>\n",
       "    </tr>\n",
       "    <tr>\n",
       "      <th>Khader</th>\n",
       "      <td>10</td>\n",
       "      <td>10</td>\n",
       "      <td>6</td>\n",
       "      <td>0</td>\n",
       "      <td>10</td>\n",
       "      <td>10</td>\n",
       "      <td>10</td>\n",
       "      <td>7</td>\n",
       "      <td>9</td>\n",
       "    </tr>\n",
       "    <tr>\n",
       "      <th>Archana</th>\n",
       "      <td>10</td>\n",
       "      <td>7</td>\n",
       "      <td>0</td>\n",
       "      <td>0</td>\n",
       "      <td>4</td>\n",
       "      <td>7</td>\n",
       "      <td>10</td>\n",
       "      <td>0</td>\n",
       "      <td>0</td>\n",
       "    </tr>\n",
       "    <tr>\n",
       "      <th>Vitaly</th>\n",
       "      <td>6</td>\n",
       "      <td>6</td>\n",
       "      <td>10</td>\n",
       "      <td>3</td>\n",
       "      <td>9</td>\n",
       "      <td>8</td>\n",
       "      <td>8</td>\n",
       "      <td>9</td>\n",
       "      <td>7</td>\n",
       "    </tr>\n",
       "    <tr>\n",
       "      <th>Joan</th>\n",
       "      <td>6</td>\n",
       "      <td>0</td>\n",
       "      <td>8</td>\n",
       "      <td>0</td>\n",
       "      <td>7</td>\n",
       "      <td>2</td>\n",
       "      <td>8</td>\n",
       "      <td>9</td>\n",
       "      <td>6</td>\n",
       "    </tr>\n",
       "  </tbody>\n",
       "</table>\n",
       "</div>"
      ],
      "text/plain": [
       "         broccoli  brussels_sprouts  hamburger  oysters (raw)   onion (raw)  \\\n",
       "student                                                                       \n",
       "Markus          8                 8          1              0            10   \n",
       "Peter           6                 6          8              7             3   \n",
       "Shikha          7                 1          0              0            10   \n",
       "Hashim          8                 2          9              5             2   \n",
       "Lina            7                 6          6              0             7   \n",
       "David           9                 9          9              9             9   \n",
       "Khader         10                10          6              0            10   \n",
       "Archana        10                 7          0              0             4   \n",
       "Vitaly          6                 6         10              3             9   \n",
       "Joan            6                 0          8              0             7   \n",
       "\n",
       "         peas  olives  blue_cheese  whisky  \n",
       "student                                     \n",
       "Markus      7       9            9       2  \n",
       "Peter       7       8           10       7  \n",
       "Shikha     10       6            1       0  \n",
       "Hashim      9       8            6       1  \n",
       "Lina        7      10            0       3  \n",
       "David       9       9            8       5  \n",
       "Khader     10      10            7       9  \n",
       "Archana     7      10            0       0  \n",
       "Vitaly      8       8            9       7  \n",
       "Joan        2       8            9       6  "
      ]
     },
     "execution_count": 21,
     "metadata": {},
     "output_type": "execute_result"
    }
   ],
   "source": [
    "food"
   ]
  },
  {
   "cell_type": "code",
   "execution_count": null,
   "id": "3c282621-721d-4dee-8a4b-947d9cb4d315",
   "metadata": {},
   "outputs": [
    {
     "data": {
      "text/html": [
       "<div>\n",
       "<style scoped>\n",
       "    .dataframe tbody tr th:only-of-type {\n",
       "        vertical-align: middle;\n",
       "    }\n",
       "\n",
       "    .dataframe tbody tr th {\n",
       "        vertical-align: top;\n",
       "    }\n",
       "\n",
       "    .dataframe thead th {\n",
       "        text-align: right;\n",
       "    }\n",
       "</style>\n",
       "<table border=\"1\" class=\"dataframe\">\n",
       "  <thead>\n",
       "    <tr style=\"text-align: right;\">\n",
       "      <th></th>\n",
       "      <th>0</th>\n",
       "      <th>1</th>\n",
       "    </tr>\n",
       "  </thead>\n",
       "  <tbody>\n",
       "    <tr>\n",
       "      <th>0</th>\n",
       "      <td>0</td>\n",
       "      <td>0</td>\n",
       "    </tr>\n",
       "    <tr>\n",
       "      <th>1</th>\n",
       "      <td>0</td>\n",
       "      <td>1</td>\n",
       "    </tr>\n",
       "    <tr>\n",
       "      <th>2</th>\n",
       "      <td>0</td>\n",
       "      <td>2</td>\n",
       "    </tr>\n",
       "    <tr>\n",
       "      <th>3</th>\n",
       "      <td>0</td>\n",
       "      <td>4</td>\n",
       "    </tr>\n",
       "    <tr>\n",
       "      <th>4</th>\n",
       "      <td>0</td>\n",
       "      <td>5</td>\n",
       "    </tr>\n",
       "  </tbody>\n",
       "</table>\n",
       "</div>"
      ],
      "text/plain": [
       "   0  1\n",
       "0  0  0\n",
       "1  0  1\n",
       "2  0  2\n",
       "3  0  4\n",
       "4  0  5"
      ]
     },
     "execution_count": 22,
     "metadata": {},
     "output_type": "execute_result"
    }
   ],
   "source": [
    "import numpy as np\n",
    "\n",
    "ratings_pos = pd.DataFrame(\n",
    "    np.nonzero(np.array(food)) # find out all the positions different than 0\n",
    ").T\n",
    "# first column represents the index position, the second the column position\n",
    "ratings_pos.head(5) # the position [0,3] does not appear as it is a 0"
   ]
  },
  {
   "cell_type": "markdown",
   "id": "ccc37333-32ee-48fa-84eb-3ddf97fb0132",
   "metadata": {},
   "source": [
    "#### 2nd: Create the train and test"
   ]
  },
  {
   "cell_type": "code",
   "execution_count": null,
   "id": "a02d5465-408e-46c8-8a86-33d9daedead9",
   "metadata": {},
   "outputs": [],
   "source": [
    "# split with train and test\n",
    "from sklearn.model_selection import train_test_split\n",
    "train_pos, test_pos = train_test_split(ratings_pos, random_state=42, test_size=.2)"
   ]
  },
  {
   "cell_type": "markdown",
   "id": "3a582965-1314-4f12-bf3e-f74a25762739",
   "metadata": {},
   "source": [
    "Now we have to dataframes called `train_pos` and `test_pos` which contains the rating positions in the food dataframe. The next step would be to create a train and a test with the information in those positions: "
   ]
  },
  {
   "cell_type": "code",
   "execution_count": null,
   "id": "c81e0097-ed11-412b-afd9-27665bf1f04f",
   "metadata": {},
   "outputs": [],
   "source": [
    "# create an empty dataframe full of 0, with the same shape as the food data\n",
    "train = np.zeros(food.shape)\n",
    "# fill the set with the food ratings based on the train positions\n",
    "for pos in train_pos.values: \n",
    "    index = pos[0]\n",
    "    col = pos[1]\n",
    "    train[index, col] = food.iloc[index, col]\n",
    "train = pd.DataFrame(train, columns=food.columns, index=food.index).apply(pd.to_numeric, downcast='integer')"
   ]
  },
  {
   "cell_type": "code",
   "execution_count": null,
   "id": "d6cf66e8-3a1c-4430-9e38-52a0b0315ef0",
   "metadata": {},
   "outputs": [],
   "source": [
    "# now it is time for the test set. We will follow the same process\n",
    "test = np.zeros(food.shape)\n",
    "for pos in test_pos.values: \n",
    "    index = pos[0]\n",
    "    col = pos[1]\n",
    "    test[index, col] = food.iloc[index, col]\n",
    "test = pd.DataFrame(test, columns=food.columns, index=food.index).apply(pd.to_numeric, downcast='integer')"
   ]
  },
  {
   "cell_type": "code",
   "execution_count": null,
   "id": "07d243d3-f4b4-40ab-91ae-4c09c63de337",
   "metadata": {},
   "outputs": [
    {
     "data": {
      "text/html": [
       "<div>\n",
       "<style scoped>\n",
       "    .dataframe tbody tr th:only-of-type {\n",
       "        vertical-align: middle;\n",
       "    }\n",
       "\n",
       "    .dataframe tbody tr th {\n",
       "        vertical-align: top;\n",
       "    }\n",
       "\n",
       "    .dataframe thead th {\n",
       "        text-align: right;\n",
       "    }\n",
       "</style>\n",
       "<table border=\"1\" class=\"dataframe\">\n",
       "  <thead>\n",
       "    <tr style=\"text-align: right;\">\n",
       "      <th></th>\n",
       "      <th>broccoli</th>\n",
       "      <th>brussels_sprouts</th>\n",
       "      <th>hamburger</th>\n",
       "      <th>oysters (raw)</th>\n",
       "      <th>onion (raw)</th>\n",
       "      <th>peas</th>\n",
       "      <th>olives</th>\n",
       "      <th>blue_cheese</th>\n",
       "      <th>whisky</th>\n",
       "    </tr>\n",
       "    <tr>\n",
       "      <th>student</th>\n",
       "      <th></th>\n",
       "      <th></th>\n",
       "      <th></th>\n",
       "      <th></th>\n",
       "      <th></th>\n",
       "      <th></th>\n",
       "      <th></th>\n",
       "      <th></th>\n",
       "      <th></th>\n",
       "    </tr>\n",
       "  </thead>\n",
       "  <tbody>\n",
       "    <tr>\n",
       "      <th>Markus</th>\n",
       "      <td>0</td>\n",
       "      <td>8</td>\n",
       "      <td>1</td>\n",
       "      <td>0</td>\n",
       "      <td>10</td>\n",
       "      <td>0</td>\n",
       "      <td>9</td>\n",
       "      <td>9</td>\n",
       "      <td>2</td>\n",
       "    </tr>\n",
       "    <tr>\n",
       "      <th>Peter</th>\n",
       "      <td>6</td>\n",
       "      <td>6</td>\n",
       "      <td>0</td>\n",
       "      <td>7</td>\n",
       "      <td>0</td>\n",
       "      <td>7</td>\n",
       "      <td>8</td>\n",
       "      <td>10</td>\n",
       "      <td>7</td>\n",
       "    </tr>\n",
       "    <tr>\n",
       "      <th>Shikha</th>\n",
       "      <td>7</td>\n",
       "      <td>0</td>\n",
       "      <td>0</td>\n",
       "      <td>0</td>\n",
       "      <td>10</td>\n",
       "      <td>10</td>\n",
       "      <td>6</td>\n",
       "      <td>1</td>\n",
       "      <td>0</td>\n",
       "    </tr>\n",
       "    <tr>\n",
       "      <th>Hashim</th>\n",
       "      <td>8</td>\n",
       "      <td>2</td>\n",
       "      <td>9</td>\n",
       "      <td>5</td>\n",
       "      <td>2</td>\n",
       "      <td>0</td>\n",
       "      <td>8</td>\n",
       "      <td>6</td>\n",
       "      <td>1</td>\n",
       "    </tr>\n",
       "    <tr>\n",
       "      <th>Lina</th>\n",
       "      <td>7</td>\n",
       "      <td>0</td>\n",
       "      <td>6</td>\n",
       "      <td>0</td>\n",
       "      <td>0</td>\n",
       "      <td>7</td>\n",
       "      <td>10</td>\n",
       "      <td>0</td>\n",
       "      <td>3</td>\n",
       "    </tr>\n",
       "    <tr>\n",
       "      <th>David</th>\n",
       "      <td>9</td>\n",
       "      <td>9</td>\n",
       "      <td>9</td>\n",
       "      <td>9</td>\n",
       "      <td>9</td>\n",
       "      <td>9</td>\n",
       "      <td>0</td>\n",
       "      <td>8</td>\n",
       "      <td>0</td>\n",
       "    </tr>\n",
       "    <tr>\n",
       "      <th>Khader</th>\n",
       "      <td>10</td>\n",
       "      <td>10</td>\n",
       "      <td>0</td>\n",
       "      <td>0</td>\n",
       "      <td>10</td>\n",
       "      <td>10</td>\n",
       "      <td>0</td>\n",
       "      <td>7</td>\n",
       "      <td>9</td>\n",
       "    </tr>\n",
       "    <tr>\n",
       "      <th>Archana</th>\n",
       "      <td>10</td>\n",
       "      <td>7</td>\n",
       "      <td>0</td>\n",
       "      <td>0</td>\n",
       "      <td>0</td>\n",
       "      <td>7</td>\n",
       "      <td>10</td>\n",
       "      <td>0</td>\n",
       "      <td>0</td>\n",
       "    </tr>\n",
       "    <tr>\n",
       "      <th>Vitaly</th>\n",
       "      <td>6</td>\n",
       "      <td>6</td>\n",
       "      <td>10</td>\n",
       "      <td>3</td>\n",
       "      <td>9</td>\n",
       "      <td>0</td>\n",
       "      <td>8</td>\n",
       "      <td>0</td>\n",
       "      <td>7</td>\n",
       "    </tr>\n",
       "    <tr>\n",
       "      <th>Joan</th>\n",
       "      <td>6</td>\n",
       "      <td>0</td>\n",
       "      <td>8</td>\n",
       "      <td>0</td>\n",
       "      <td>7</td>\n",
       "      <td>2</td>\n",
       "      <td>0</td>\n",
       "      <td>9</td>\n",
       "      <td>6</td>\n",
       "    </tr>\n",
       "  </tbody>\n",
       "</table>\n",
       "</div>"
      ],
      "text/plain": [
       "         broccoli  brussels_sprouts  hamburger  oysters (raw)   onion (raw)  \\\n",
       "student                                                                       \n",
       "Markus          0                 8          1              0            10   \n",
       "Peter           6                 6          0              7             0   \n",
       "Shikha          7                 0          0              0            10   \n",
       "Hashim          8                 2          9              5             2   \n",
       "Lina            7                 0          6              0             0   \n",
       "David           9                 9          9              9             9   \n",
       "Khader         10                10          0              0            10   \n",
       "Archana        10                 7          0              0             0   \n",
       "Vitaly          6                 6         10              3             9   \n",
       "Joan            6                 0          8              0             7   \n",
       "\n",
       "         peas  olives  blue_cheese  whisky  \n",
       "student                                     \n",
       "Markus      0       9            9       2  \n",
       "Peter       7       8           10       7  \n",
       "Shikha     10       6            1       0  \n",
       "Hashim      0       8            6       1  \n",
       "Lina        7      10            0       3  \n",
       "David       9       0            8       0  \n",
       "Khader     10       0            7       9  \n",
       "Archana     7      10            0       0  \n",
       "Vitaly      0       8            0       7  \n",
       "Joan        2       0            9       6  "
      ]
     },
     "execution_count": 26,
     "metadata": {},
     "output_type": "execute_result"
    }
   ],
   "source": [
    "# visualising train set\n",
    "train"
   ]
  },
  {
   "cell_type": "code",
   "execution_count": null,
   "id": "a2195be6-11fa-4cf9-b350-5d765968f80f",
   "metadata": {},
   "outputs": [
    {
     "data": {
      "text/html": [
       "<div>\n",
       "<style scoped>\n",
       "    .dataframe tbody tr th:only-of-type {\n",
       "        vertical-align: middle;\n",
       "    }\n",
       "\n",
       "    .dataframe tbody tr th {\n",
       "        vertical-align: top;\n",
       "    }\n",
       "\n",
       "    .dataframe thead th {\n",
       "        text-align: right;\n",
       "    }\n",
       "</style>\n",
       "<table border=\"1\" class=\"dataframe\">\n",
       "  <thead>\n",
       "    <tr style=\"text-align: right;\">\n",
       "      <th></th>\n",
       "      <th>broccoli</th>\n",
       "      <th>brussels_sprouts</th>\n",
       "      <th>hamburger</th>\n",
       "      <th>oysters (raw)</th>\n",
       "      <th>onion (raw)</th>\n",
       "      <th>peas</th>\n",
       "      <th>olives</th>\n",
       "      <th>blue_cheese</th>\n",
       "      <th>whisky</th>\n",
       "    </tr>\n",
       "    <tr>\n",
       "      <th>student</th>\n",
       "      <th></th>\n",
       "      <th></th>\n",
       "      <th></th>\n",
       "      <th></th>\n",
       "      <th></th>\n",
       "      <th></th>\n",
       "      <th></th>\n",
       "      <th></th>\n",
       "      <th></th>\n",
       "    </tr>\n",
       "  </thead>\n",
       "  <tbody>\n",
       "    <tr>\n",
       "      <th>Markus</th>\n",
       "      <td>8</td>\n",
       "      <td>0</td>\n",
       "      <td>0</td>\n",
       "      <td>0</td>\n",
       "      <td>0</td>\n",
       "      <td>7</td>\n",
       "      <td>0</td>\n",
       "      <td>0</td>\n",
       "      <td>0</td>\n",
       "    </tr>\n",
       "    <tr>\n",
       "      <th>Peter</th>\n",
       "      <td>0</td>\n",
       "      <td>0</td>\n",
       "      <td>8</td>\n",
       "      <td>0</td>\n",
       "      <td>3</td>\n",
       "      <td>0</td>\n",
       "      <td>0</td>\n",
       "      <td>0</td>\n",
       "      <td>0</td>\n",
       "    </tr>\n",
       "    <tr>\n",
       "      <th>Shikha</th>\n",
       "      <td>0</td>\n",
       "      <td>1</td>\n",
       "      <td>0</td>\n",
       "      <td>0</td>\n",
       "      <td>0</td>\n",
       "      <td>0</td>\n",
       "      <td>0</td>\n",
       "      <td>0</td>\n",
       "      <td>0</td>\n",
       "    </tr>\n",
       "    <tr>\n",
       "      <th>Hashim</th>\n",
       "      <td>0</td>\n",
       "      <td>0</td>\n",
       "      <td>0</td>\n",
       "      <td>0</td>\n",
       "      <td>0</td>\n",
       "      <td>9</td>\n",
       "      <td>0</td>\n",
       "      <td>0</td>\n",
       "      <td>0</td>\n",
       "    </tr>\n",
       "    <tr>\n",
       "      <th>Lina</th>\n",
       "      <td>0</td>\n",
       "      <td>6</td>\n",
       "      <td>0</td>\n",
       "      <td>0</td>\n",
       "      <td>7</td>\n",
       "      <td>0</td>\n",
       "      <td>0</td>\n",
       "      <td>0</td>\n",
       "      <td>0</td>\n",
       "    </tr>\n",
       "    <tr>\n",
       "      <th>David</th>\n",
       "      <td>0</td>\n",
       "      <td>0</td>\n",
       "      <td>0</td>\n",
       "      <td>0</td>\n",
       "      <td>0</td>\n",
       "      <td>0</td>\n",
       "      <td>9</td>\n",
       "      <td>0</td>\n",
       "      <td>5</td>\n",
       "    </tr>\n",
       "    <tr>\n",
       "      <th>Khader</th>\n",
       "      <td>0</td>\n",
       "      <td>0</td>\n",
       "      <td>6</td>\n",
       "      <td>0</td>\n",
       "      <td>0</td>\n",
       "      <td>0</td>\n",
       "      <td>10</td>\n",
       "      <td>0</td>\n",
       "      <td>0</td>\n",
       "    </tr>\n",
       "    <tr>\n",
       "      <th>Archana</th>\n",
       "      <td>0</td>\n",
       "      <td>0</td>\n",
       "      <td>0</td>\n",
       "      <td>0</td>\n",
       "      <td>4</td>\n",
       "      <td>0</td>\n",
       "      <td>0</td>\n",
       "      <td>0</td>\n",
       "      <td>0</td>\n",
       "    </tr>\n",
       "    <tr>\n",
       "      <th>Vitaly</th>\n",
       "      <td>0</td>\n",
       "      <td>0</td>\n",
       "      <td>0</td>\n",
       "      <td>0</td>\n",
       "      <td>0</td>\n",
       "      <td>8</td>\n",
       "      <td>0</td>\n",
       "      <td>9</td>\n",
       "      <td>0</td>\n",
       "    </tr>\n",
       "    <tr>\n",
       "      <th>Joan</th>\n",
       "      <td>0</td>\n",
       "      <td>0</td>\n",
       "      <td>0</td>\n",
       "      <td>0</td>\n",
       "      <td>0</td>\n",
       "      <td>0</td>\n",
       "      <td>8</td>\n",
       "      <td>0</td>\n",
       "      <td>0</td>\n",
       "    </tr>\n",
       "  </tbody>\n",
       "</table>\n",
       "</div>"
      ],
      "text/plain": [
       "         broccoli  brussels_sprouts  hamburger  oysters (raw)   onion (raw)  \\\n",
       "student                                                                       \n",
       "Markus          8                 0          0              0             0   \n",
       "Peter           0                 0          8              0             3   \n",
       "Shikha          0                 1          0              0             0   \n",
       "Hashim          0                 0          0              0             0   \n",
       "Lina            0                 6          0              0             7   \n",
       "David           0                 0          0              0             0   \n",
       "Khader          0                 0          6              0             0   \n",
       "Archana         0                 0          0              0             4   \n",
       "Vitaly          0                 0          0              0             0   \n",
       "Joan            0                 0          0              0             0   \n",
       "\n",
       "         peas  olives  blue_cheese  whisky  \n",
       "student                                     \n",
       "Markus      7       0            0       0  \n",
       "Peter       0       0            0       0  \n",
       "Shikha      0       0            0       0  \n",
       "Hashim      9       0            0       0  \n",
       "Lina        0       0            0       0  \n",
       "David       0       9            0       5  \n",
       "Khader      0      10            0       0  \n",
       "Archana     0       0            0       0  \n",
       "Vitaly      8       0            9       0  \n",
       "Joan        0       8            0       0  "
      ]
     },
     "execution_count": 27,
     "metadata": {},
     "output_type": "execute_result"
    }
   ],
   "source": [
    "# visualising test set\n",
    "test"
   ]
  },
  {
   "cell_type": "code",
   "execution_count": null,
   "id": "ef9ae037-bee7-42f4-8550-f11bcec2b1a0",
   "metadata": {},
   "outputs": [
    {
     "data": {
      "text/html": [
       "<div>\n",
       "<style scoped>\n",
       "    .dataframe tbody tr th:only-of-type {\n",
       "        vertical-align: middle;\n",
       "    }\n",
       "\n",
       "    .dataframe tbody tr th {\n",
       "        vertical-align: top;\n",
       "    }\n",
       "\n",
       "    .dataframe thead th {\n",
       "        text-align: right;\n",
       "    }\n",
       "</style>\n",
       "<table border=\"1\" class=\"dataframe\">\n",
       "  <thead>\n",
       "    <tr style=\"text-align: right;\">\n",
       "      <th></th>\n",
       "      <th>0</th>\n",
       "      <th>1</th>\n",
       "    </tr>\n",
       "  </thead>\n",
       "  <tbody>\n",
       "    <tr>\n",
       "      <th>4</th>\n",
       "      <td>0</td>\n",
       "      <td>5</td>\n",
       "    </tr>\n",
       "    <tr>\n",
       "      <th>35</th>\n",
       "      <td>4</td>\n",
       "      <td>4</td>\n",
       "    </tr>\n",
       "    <tr>\n",
       "      <th>10</th>\n",
       "      <td>1</td>\n",
       "      <td>2</td>\n",
       "    </tr>\n",
       "    <tr>\n",
       "      <th>0</th>\n",
       "      <td>0</td>\n",
       "      <td>0</td>\n",
       "    </tr>\n",
       "    <tr>\n",
       "      <th>45</th>\n",
       "      <td>5</td>\n",
       "      <td>6</td>\n",
       "    </tr>\n",
       "    <tr>\n",
       "      <th>47</th>\n",
       "      <td>5</td>\n",
       "      <td>8</td>\n",
       "    </tr>\n",
       "    <tr>\n",
       "      <th>66</th>\n",
       "      <td>8</td>\n",
       "      <td>5</td>\n",
       "    </tr>\n",
       "    <tr>\n",
       "      <th>53</th>\n",
       "      <td>6</td>\n",
       "      <td>6</td>\n",
       "    </tr>\n",
       "    <tr>\n",
       "      <th>50</th>\n",
       "      <td>6</td>\n",
       "      <td>2</td>\n",
       "    </tr>\n",
       "    <tr>\n",
       "      <th>28</th>\n",
       "      <td>3</td>\n",
       "      <td>5</td>\n",
       "    </tr>\n",
       "    <tr>\n",
       "      <th>68</th>\n",
       "      <td>8</td>\n",
       "      <td>7</td>\n",
       "    </tr>\n",
       "    <tr>\n",
       "      <th>74</th>\n",
       "      <td>9</td>\n",
       "      <td>6</td>\n",
       "    </tr>\n",
       "    <tr>\n",
       "      <th>18</th>\n",
       "      <td>2</td>\n",
       "      <td>1</td>\n",
       "    </tr>\n",
       "    <tr>\n",
       "      <th>12</th>\n",
       "      <td>1</td>\n",
       "      <td>4</td>\n",
       "    </tr>\n",
       "    <tr>\n",
       "      <th>58</th>\n",
       "      <td>7</td>\n",
       "      <td>4</td>\n",
       "    </tr>\n",
       "    <tr>\n",
       "      <th>33</th>\n",
       "      <td>4</td>\n",
       "      <td>1</td>\n",
       "    </tr>\n",
       "  </tbody>\n",
       "</table>\n",
       "</div>"
      ],
      "text/plain": [
       "    0  1\n",
       "4   0  5\n",
       "35  4  4\n",
       "10  1  2\n",
       "0   0  0\n",
       "45  5  6\n",
       "47  5  8\n",
       "66  8  5\n",
       "53  6  6\n",
       "50  6  2\n",
       "28  3  5\n",
       "68  8  7\n",
       "74  9  6\n",
       "18  2  1\n",
       "12  1  4\n",
       "58  7  4\n",
       "33  4  1"
      ]
     },
     "execution_count": 28,
     "metadata": {},
     "output_type": "execute_result"
    }
   ],
   "source": [
    "test_pos"
   ]
  },
  {
   "cell_type": "markdown",
   "id": "4234f0f5-33ad-46ca-be31-892a2cbe96f6",
   "metadata": {},
   "source": [
    "#### 3rd: Train our model and predict for all the rating positions"
   ]
  },
  {
   "cell_type": "code",
   "execution_count": null,
   "id": "2d32e021-28ad-4057-98d7-af4f1ab24c25",
   "metadata": {},
   "outputs": [],
   "source": [
    "# train the model\n",
    "train_similitude = pd.DataFrame(cosine_similarity(train), columns=sample.index, index=sample.index)"
   ]
  },
  {
   "cell_type": "code",
   "execution_count": null,
   "id": "a2ea9d11-6b17-4138-a9f8-b471c77da15a",
   "metadata": {},
   "outputs": [],
   "source": [
    "def recommender(index_name, column_name, sim_df, data): \n",
    "    results = (\n",
    "    pd.DataFrame({\n",
    "        'ratings': data.loc[:,column_name], \n",
    "        'similitudes' : sim_df.loc[index_name,:].tolist()\n",
    "    })\n",
    "        .assign(weighted_ratings = lambda x: x.ratings * x.similitudes)\n",
    "        .query('ratings != 0')\n",
    "        .agg({\n",
    "            'weighted_ratings':'sum', \n",
    "            'similitudes':'sum'\n",
    "        })\n",
    "    )\n",
    "    pred_rating = results[0] / results[1]\n",
    "    return pred_rating"
   ]
  },
  {
   "cell_type": "code",
   "execution_count": null,
   "id": "e0fe11ee-40e9-4358-a146-bb21dcef386e",
   "metadata": {},
   "outputs": [
    {
     "data": {
      "text/html": [
       "<div>\n",
       "<style scoped>\n",
       "    .dataframe tbody tr th:only-of-type {\n",
       "        vertical-align: middle;\n",
       "    }\n",
       "\n",
       "    .dataframe tbody tr th {\n",
       "        vertical-align: top;\n",
       "    }\n",
       "\n",
       "    .dataframe thead th {\n",
       "        text-align: right;\n",
       "    }\n",
       "</style>\n",
       "<table border=\"1\" class=\"dataframe\">\n",
       "  <thead>\n",
       "    <tr style=\"text-align: right;\">\n",
       "      <th></th>\n",
       "      <th>broccoli</th>\n",
       "      <th>brussels_sprouts</th>\n",
       "      <th>hamburger</th>\n",
       "      <th>oysters (raw)</th>\n",
       "      <th>onion (raw)</th>\n",
       "      <th>peas</th>\n",
       "      <th>olives</th>\n",
       "      <th>blue_cheese</th>\n",
       "      <th>whisky</th>\n",
       "    </tr>\n",
       "    <tr>\n",
       "      <th>student</th>\n",
       "      <th></th>\n",
       "      <th></th>\n",
       "      <th></th>\n",
       "      <th></th>\n",
       "      <th></th>\n",
       "      <th></th>\n",
       "      <th></th>\n",
       "      <th></th>\n",
       "      <th></th>\n",
       "    </tr>\n",
       "  </thead>\n",
       "  <tbody>\n",
       "    <tr>\n",
       "      <th>Markus</th>\n",
       "      <td>8.0</td>\n",
       "      <td>7.0</td>\n",
       "      <td>7.0</td>\n",
       "      <td>6.0</td>\n",
       "      <td>8.0</td>\n",
       "      <td>7.0</td>\n",
       "      <td>8.0</td>\n",
       "      <td>7.0</td>\n",
       "      <td>5.0</td>\n",
       "    </tr>\n",
       "    <tr>\n",
       "      <th>Peter</th>\n",
       "      <td>8.0</td>\n",
       "      <td>7.0</td>\n",
       "      <td>7.0</td>\n",
       "      <td>6.0</td>\n",
       "      <td>8.0</td>\n",
       "      <td>7.0</td>\n",
       "      <td>8.0</td>\n",
       "      <td>7.0</td>\n",
       "      <td>5.0</td>\n",
       "    </tr>\n",
       "    <tr>\n",
       "      <th>Shikha</th>\n",
       "      <td>8.0</td>\n",
       "      <td>7.0</td>\n",
       "      <td>7.0</td>\n",
       "      <td>6.0</td>\n",
       "      <td>9.0</td>\n",
       "      <td>8.0</td>\n",
       "      <td>8.0</td>\n",
       "      <td>6.0</td>\n",
       "      <td>5.0</td>\n",
       "    </tr>\n",
       "    <tr>\n",
       "      <th>Hashim</th>\n",
       "      <td>8.0</td>\n",
       "      <td>6.0</td>\n",
       "      <td>8.0</td>\n",
       "      <td>6.0</td>\n",
       "      <td>8.0</td>\n",
       "      <td>7.0</td>\n",
       "      <td>8.0</td>\n",
       "      <td>7.0</td>\n",
       "      <td>5.0</td>\n",
       "    </tr>\n",
       "    <tr>\n",
       "      <th>Lina</th>\n",
       "      <td>8.0</td>\n",
       "      <td>6.0</td>\n",
       "      <td>7.0</td>\n",
       "      <td>6.0</td>\n",
       "      <td>8.0</td>\n",
       "      <td>7.0</td>\n",
       "      <td>9.0</td>\n",
       "      <td>7.0</td>\n",
       "      <td>5.0</td>\n",
       "    </tr>\n",
       "    <tr>\n",
       "      <th>David</th>\n",
       "      <td>8.0</td>\n",
       "      <td>7.0</td>\n",
       "      <td>8.0</td>\n",
       "      <td>6.0</td>\n",
       "      <td>8.0</td>\n",
       "      <td>8.0</td>\n",
       "      <td>8.0</td>\n",
       "      <td>7.0</td>\n",
       "      <td>5.0</td>\n",
       "    </tr>\n",
       "    <tr>\n",
       "      <th>Khader</th>\n",
       "      <td>8.0</td>\n",
       "      <td>7.0</td>\n",
       "      <td>7.0</td>\n",
       "      <td>6.0</td>\n",
       "      <td>9.0</td>\n",
       "      <td>8.0</td>\n",
       "      <td>8.0</td>\n",
       "      <td>7.0</td>\n",
       "      <td>6.0</td>\n",
       "    </tr>\n",
       "    <tr>\n",
       "      <th>Archana</th>\n",
       "      <td>8.0</td>\n",
       "      <td>7.0</td>\n",
       "      <td>7.0</td>\n",
       "      <td>6.0</td>\n",
       "      <td>8.0</td>\n",
       "      <td>8.0</td>\n",
       "      <td>9.0</td>\n",
       "      <td>7.0</td>\n",
       "      <td>5.0</td>\n",
       "    </tr>\n",
       "    <tr>\n",
       "      <th>Vitaly</th>\n",
       "      <td>8.0</td>\n",
       "      <td>7.0</td>\n",
       "      <td>7.0</td>\n",
       "      <td>6.0</td>\n",
       "      <td>8.0</td>\n",
       "      <td>7.0</td>\n",
       "      <td>8.0</td>\n",
       "      <td>7.0</td>\n",
       "      <td>5.0</td>\n",
       "    </tr>\n",
       "    <tr>\n",
       "      <th>Joan</th>\n",
       "      <td>7.0</td>\n",
       "      <td>7.0</td>\n",
       "      <td>7.0</td>\n",
       "      <td>6.0</td>\n",
       "      <td>8.0</td>\n",
       "      <td>7.0</td>\n",
       "      <td>8.0</td>\n",
       "      <td>7.0</td>\n",
       "      <td>5.0</td>\n",
       "    </tr>\n",
       "  </tbody>\n",
       "</table>\n",
       "</div>"
      ],
      "text/plain": [
       "         broccoli  brussels_sprouts  hamburger  oysters (raw)   onion (raw)  \\\n",
       "student                                                                       \n",
       "Markus        8.0               7.0        7.0            6.0           8.0   \n",
       "Peter         8.0               7.0        7.0            6.0           8.0   \n",
       "Shikha        8.0               7.0        7.0            6.0           9.0   \n",
       "Hashim        8.0               6.0        8.0            6.0           8.0   \n",
       "Lina          8.0               6.0        7.0            6.0           8.0   \n",
       "David         8.0               7.0        8.0            6.0           8.0   \n",
       "Khader        8.0               7.0        7.0            6.0           9.0   \n",
       "Archana       8.0               7.0        7.0            6.0           8.0   \n",
       "Vitaly        8.0               7.0        7.0            6.0           8.0   \n",
       "Joan          7.0               7.0        7.0            6.0           8.0   \n",
       "\n",
       "         peas  olives  blue_cheese  whisky  \n",
       "student                                     \n",
       "Markus    7.0     8.0          7.0     5.0  \n",
       "Peter     7.0     8.0          7.0     5.0  \n",
       "Shikha    8.0     8.0          6.0     5.0  \n",
       "Hashim    7.0     8.0          7.0     5.0  \n",
       "Lina      7.0     9.0          7.0     5.0  \n",
       "David     8.0     8.0          7.0     5.0  \n",
       "Khader    8.0     8.0          7.0     6.0  \n",
       "Archana   8.0     9.0          7.0     5.0  \n",
       "Vitaly    7.0     8.0          7.0     5.0  \n",
       "Joan      7.0     8.0          7.0     5.0  "
      ]
     },
     "execution_count": 31,
     "metadata": {},
     "output_type": "execute_result"
    }
   ],
   "source": [
    "recommendations = pd.DataFrame(np.zeros(food.shape), columns=food.columns, index=food.index)\n",
    "\n",
    "for col in train.columns: \n",
    "    for index in train.index:\n",
    "        recommendations.loc[index, col] = round(recommender(index, col, train_similitude, train))\n",
    "recommendations"
   ]
  },
  {
   "cell_type": "markdown",
   "id": "b5426795-abf6-45d0-b2ce-419003dc558b",
   "metadata": {},
   "source": [
    "#### 4th: Check results on train and test set"
   ]
  },
  {
   "cell_type": "code",
   "execution_count": null,
   "id": "2cf5fbfe-1b6d-4ad3-a906-9be92f747469",
   "metadata": {},
   "outputs": [
    {
     "data": {
      "text/html": [
       "<div>\n",
       "<style scoped>\n",
       "    .dataframe tbody tr th:only-of-type {\n",
       "        vertical-align: middle;\n",
       "    }\n",
       "\n",
       "    .dataframe tbody tr th {\n",
       "        vertical-align: top;\n",
       "    }\n",
       "\n",
       "    .dataframe thead th {\n",
       "        text-align: right;\n",
       "    }\n",
       "</style>\n",
       "<table border=\"1\" class=\"dataframe\">\n",
       "  <thead>\n",
       "    <tr style=\"text-align: right;\">\n",
       "      <th></th>\n",
       "      <th>broccoli</th>\n",
       "      <th>brussels_sprouts</th>\n",
       "      <th>hamburger</th>\n",
       "      <th>oysters (raw)</th>\n",
       "      <th>onion (raw)</th>\n",
       "      <th>peas</th>\n",
       "      <th>olives</th>\n",
       "      <th>blue_cheese</th>\n",
       "      <th>whisky</th>\n",
       "    </tr>\n",
       "    <tr>\n",
       "      <th>student</th>\n",
       "      <th></th>\n",
       "      <th></th>\n",
       "      <th></th>\n",
       "      <th></th>\n",
       "      <th></th>\n",
       "      <th></th>\n",
       "      <th></th>\n",
       "      <th></th>\n",
       "      <th></th>\n",
       "    </tr>\n",
       "  </thead>\n",
       "  <tbody>\n",
       "    <tr>\n",
       "      <th>Markus</th>\n",
       "      <td>8</td>\n",
       "      <td>0</td>\n",
       "      <td>0</td>\n",
       "      <td>0</td>\n",
       "      <td>0</td>\n",
       "      <td>7</td>\n",
       "      <td>0</td>\n",
       "      <td>0</td>\n",
       "      <td>0</td>\n",
       "    </tr>\n",
       "    <tr>\n",
       "      <th>Peter</th>\n",
       "      <td>0</td>\n",
       "      <td>0</td>\n",
       "      <td>8</td>\n",
       "      <td>0</td>\n",
       "      <td>3</td>\n",
       "      <td>0</td>\n",
       "      <td>0</td>\n",
       "      <td>0</td>\n",
       "      <td>0</td>\n",
       "    </tr>\n",
       "    <tr>\n",
       "      <th>Shikha</th>\n",
       "      <td>0</td>\n",
       "      <td>1</td>\n",
       "      <td>0</td>\n",
       "      <td>0</td>\n",
       "      <td>0</td>\n",
       "      <td>0</td>\n",
       "      <td>0</td>\n",
       "      <td>0</td>\n",
       "      <td>0</td>\n",
       "    </tr>\n",
       "    <tr>\n",
       "      <th>Hashim</th>\n",
       "      <td>0</td>\n",
       "      <td>0</td>\n",
       "      <td>0</td>\n",
       "      <td>0</td>\n",
       "      <td>0</td>\n",
       "      <td>9</td>\n",
       "      <td>0</td>\n",
       "      <td>0</td>\n",
       "      <td>0</td>\n",
       "    </tr>\n",
       "    <tr>\n",
       "      <th>Lina</th>\n",
       "      <td>0</td>\n",
       "      <td>6</td>\n",
       "      <td>0</td>\n",
       "      <td>0</td>\n",
       "      <td>7</td>\n",
       "      <td>0</td>\n",
       "      <td>0</td>\n",
       "      <td>0</td>\n",
       "      <td>0</td>\n",
       "    </tr>\n",
       "    <tr>\n",
       "      <th>David</th>\n",
       "      <td>0</td>\n",
       "      <td>0</td>\n",
       "      <td>0</td>\n",
       "      <td>0</td>\n",
       "      <td>0</td>\n",
       "      <td>0</td>\n",
       "      <td>9</td>\n",
       "      <td>0</td>\n",
       "      <td>5</td>\n",
       "    </tr>\n",
       "    <tr>\n",
       "      <th>Khader</th>\n",
       "      <td>0</td>\n",
       "      <td>0</td>\n",
       "      <td>6</td>\n",
       "      <td>0</td>\n",
       "      <td>0</td>\n",
       "      <td>0</td>\n",
       "      <td>10</td>\n",
       "      <td>0</td>\n",
       "      <td>0</td>\n",
       "    </tr>\n",
       "    <tr>\n",
       "      <th>Archana</th>\n",
       "      <td>0</td>\n",
       "      <td>0</td>\n",
       "      <td>0</td>\n",
       "      <td>0</td>\n",
       "      <td>4</td>\n",
       "      <td>0</td>\n",
       "      <td>0</td>\n",
       "      <td>0</td>\n",
       "      <td>0</td>\n",
       "    </tr>\n",
       "    <tr>\n",
       "      <th>Vitaly</th>\n",
       "      <td>0</td>\n",
       "      <td>0</td>\n",
       "      <td>0</td>\n",
       "      <td>0</td>\n",
       "      <td>0</td>\n",
       "      <td>8</td>\n",
       "      <td>0</td>\n",
       "      <td>9</td>\n",
       "      <td>0</td>\n",
       "    </tr>\n",
       "    <tr>\n",
       "      <th>Joan</th>\n",
       "      <td>0</td>\n",
       "      <td>0</td>\n",
       "      <td>0</td>\n",
       "      <td>0</td>\n",
       "      <td>0</td>\n",
       "      <td>0</td>\n",
       "      <td>8</td>\n",
       "      <td>0</td>\n",
       "      <td>0</td>\n",
       "    </tr>\n",
       "  </tbody>\n",
       "</table>\n",
       "</div>"
      ],
      "text/plain": [
       "         broccoli  brussels_sprouts  hamburger  oysters (raw)   onion (raw)  \\\n",
       "student                                                                       \n",
       "Markus          8                 0          0              0             0   \n",
       "Peter           0                 0          8              0             3   \n",
       "Shikha          0                 1          0              0             0   \n",
       "Hashim          0                 0          0              0             0   \n",
       "Lina            0                 6          0              0             7   \n",
       "David           0                 0          0              0             0   \n",
       "Khader          0                 0          6              0             0   \n",
       "Archana         0                 0          0              0             4   \n",
       "Vitaly          0                 0          0              0             0   \n",
       "Joan            0                 0          0              0             0   \n",
       "\n",
       "         peas  olives  blue_cheese  whisky  \n",
       "student                                     \n",
       "Markus      7       0            0       0  \n",
       "Peter       0       0            0       0  \n",
       "Shikha      0       0            0       0  \n",
       "Hashim      9       0            0       0  \n",
       "Lina        0       0            0       0  \n",
       "David       0       9            0       5  \n",
       "Khader      0      10            0       0  \n",
       "Archana     0       0            0       0  \n",
       "Vitaly      8       0            9       0  \n",
       "Joan        0       8            0       0  "
      ]
     },
     "execution_count": 32,
     "metadata": {},
     "output_type": "execute_result"
    }
   ],
   "source": [
    "test"
   ]
  },
  {
   "cell_type": "code",
   "execution_count": null,
   "id": "31477279-67c3-4b92-814e-97f03aee5eff",
   "metadata": {},
   "outputs": [
    {
     "name": "stdout",
     "output_type": "stream",
     "text": [
      "Prediction: 7\t Real value: 7\n",
      "Prediction: 8\t Real value: 7\n",
      "Prediction: 7\t Real value: 8\n",
      "Prediction: 8\t Real value: 8\n",
      "Prediction: 8\t Real value: 9\n",
      "Prediction: 5\t Real value: 5\n",
      "Prediction: 7\t Real value: 8\n",
      "Prediction: 8\t Real value: 10\n",
      "Prediction: 7\t Real value: 6\n",
      "Prediction: 7\t Real value: 9\n",
      "Prediction: 7\t Real value: 9\n",
      "Prediction: 8\t Real value: 8\n",
      "Prediction: 7\t Real value: 1\n",
      "Prediction: 8\t Real value: 3\n",
      "Prediction: 8\t Real value: 4\n",
      "Prediction: 6\t Real value: 6\n"
     ]
    }
   ],
   "source": [
    "for pos in test_pos.values: \n",
    "    index = test.index[pos[0]]\n",
    "    column = test.columns[pos[1]]\n",
    "    print(f'Prediction: {round(recommender(index, column, train_similitude, train))}\\t Real value: {test.loc[index,column]}')\n",
    "#     print(food.iloc[pos[0], pos[1]].index)"
   ]
  },
  {
   "cell_type": "markdown",
   "id": "67e2435a-4f09-4f39-84ca-3a64a0c25370",
   "metadata": {},
   "source": [
    "##### Visualise the results"
   ]
  },
  {
   "cell_type": "code",
   "execution_count": null,
   "id": "01efa063-28a1-4ead-8874-4d083bf3ed1b",
   "metadata": {},
   "outputs": [
    {
     "data": {
      "image/png": "[encoded data removed]",
      "text/plain": [
       "<Figure size 432x288 with 1 Axes>"
      ]
     },
     "metadata": {
      "needs_background": "light"
     },
     "output_type": "display_data"
    }
   ],
   "source": [
    "predictions = [round(recommender(test.index[pos[0]], test.columns[pos[1]], train_similitude, train)) for pos in test_pos.values]\n",
    "true_values = [test.iloc[pos[0],pos[1]] for pos in test_pos.values]\n",
    "\n",
    "plt.title('Error analysis')\n",
    "plt.xlabel('Predicted ratings')\n",
    "plt.ylabel('True ratings')\n",
    "sns.lineplot(x=[0,10], y=[0,10], color='red')\n",
    "sns.scatterplot(x=predictions, y=true_values)\n",
    "plt.show()"
   ]
  },
  {
   "cell_type": "markdown",
   "id": "84e3b9eb-04c9-4624-9ea3-d0e260eda39e",
   "metadata": {},
   "source": [
    "##### Other ways to evaluate our model"
   ]
  },
  {
   "cell_type": "code",
   "execution_count": null,
   "id": "8f98ed90-e158-4020-9ab2-78475208e4bd",
   "metadata": {},
   "outputs": [
    {
     "data": {
      "text/html": [
       "<div>\n",
       "<style scoped>\n",
       "    .dataframe tbody tr th:only-of-type {\n",
       "        vertical-align: middle;\n",
       "    }\n",
       "\n",
       "    .dataframe tbody tr th {\n",
       "        vertical-align: top;\n",
       "    }\n",
       "\n",
       "    .dataframe thead th {\n",
       "        text-align: right;\n",
       "    }\n",
       "</style>\n",
       "<table border=\"1\" class=\"dataframe\">\n",
       "  <thead>\n",
       "    <tr style=\"text-align: right;\">\n",
       "      <th></th>\n",
       "      <th>predictions</th>\n",
       "      <th>true_values</th>\n",
       "    </tr>\n",
       "  </thead>\n",
       "  <tbody>\n",
       "    <tr>\n",
       "      <th>0</th>\n",
       "      <td>7</td>\n",
       "      <td>7</td>\n",
       "    </tr>\n",
       "    <tr>\n",
       "      <th>1</th>\n",
       "      <td>8</td>\n",
       "      <td>7</td>\n",
       "    </tr>\n",
       "    <tr>\n",
       "      <th>2</th>\n",
       "      <td>7</td>\n",
       "      <td>8</td>\n",
       "    </tr>\n",
       "    <tr>\n",
       "      <th>3</th>\n",
       "      <td>8</td>\n",
       "      <td>8</td>\n",
       "    </tr>\n",
       "    <tr>\n",
       "      <th>4</th>\n",
       "      <td>8</td>\n",
       "      <td>9</td>\n",
       "    </tr>\n",
       "    <tr>\n",
       "      <th>5</th>\n",
       "      <td>5</td>\n",
       "      <td>5</td>\n",
       "    </tr>\n",
       "    <tr>\n",
       "      <th>6</th>\n",
       "      <td>7</td>\n",
       "      <td>8</td>\n",
       "    </tr>\n",
       "    <tr>\n",
       "      <th>7</th>\n",
       "      <td>8</td>\n",
       "      <td>10</td>\n",
       "    </tr>\n",
       "    <tr>\n",
       "      <th>8</th>\n",
       "      <td>7</td>\n",
       "      <td>6</td>\n",
       "    </tr>\n",
       "    <tr>\n",
       "      <th>9</th>\n",
       "      <td>7</td>\n",
       "      <td>9</td>\n",
       "    </tr>\n",
       "    <tr>\n",
       "      <th>10</th>\n",
       "      <td>7</td>\n",
       "      <td>9</td>\n",
       "    </tr>\n",
       "    <tr>\n",
       "      <th>11</th>\n",
       "      <td>8</td>\n",
       "      <td>8</td>\n",
       "    </tr>\n",
       "    <tr>\n",
       "      <th>12</th>\n",
       "      <td>7</td>\n",
       "      <td>1</td>\n",
       "    </tr>\n",
       "    <tr>\n",
       "      <th>13</th>\n",
       "      <td>8</td>\n",
       "      <td>3</td>\n",
       "    </tr>\n",
       "    <tr>\n",
       "      <th>14</th>\n",
       "      <td>8</td>\n",
       "      <td>4</td>\n",
       "    </tr>\n",
       "    <tr>\n",
       "      <th>15</th>\n",
       "      <td>6</td>\n",
       "      <td>6</td>\n",
       "    </tr>\n",
       "  </tbody>\n",
       "</table>\n",
       "</div>"
      ],
      "text/plain": [
       "    predictions  true_values\n",
       "0             7            7\n",
       "1             8            7\n",
       "2             7            8\n",
       "3             8            8\n",
       "4             8            9\n",
       "5             5            5\n",
       "6             7            8\n",
       "7             8           10\n",
       "8             7            6\n",
       "9             7            9\n",
       "10            7            9\n",
       "11            8            8\n",
       "12            7            1\n",
       "13            8            3\n",
       "14            8            4\n",
       "15            6            6"
      ]
     },
     "execution_count": 35,
     "metadata": {},
     "output_type": "execute_result"
    }
   ],
   "source": [
    "results = pd.DataFrame({\n",
    "    'predictions':predictions,\n",
    "    'true_values':true_values\n",
    "})\n",
    "results"
   ]
  },
  {
   "cell_type": "markdown",
   "id": "d2a8061a-f559-47aa-b6c5-3f7f0125746e",
   "metadata": {},
   "source": [
    "* Mean Squared Error (MSE): is calculated as the mean or average of the squared differences between predicted and expected target values.\n",
    "$$MSE = (\\frac{1}{n})\\sum_{i=1}^{n}(y_{i} - x_{i})^{2}$$"
   ]
  },
  {
   "cell_type": "code",
   "execution_count": null,
   "id": "2c643236-cd1f-4578-9e14-eedc771ef4f1",
   "metadata": {},
   "outputs": [
    {
     "data": {
      "text/plain": [
       "diff    5.875\n",
       "dtype: float64"
      ]
     },
     "execution_count": 36,
     "metadata": {},
     "output_type": "execute_result"
    }
   ],
   "source": [
    "mse_pre = (results\n",
    "               .assign(diff = lambda x: (x.true_values - x.predictions)**2)\n",
    "               .agg({'diff':{'sum','count'}}))\n",
    "mse = mse_pre.loc['sum'] / mse_pre.loc['count']\n",
    "mse"
   ]
  },
  {
   "cell_type": "code",
   "execution_count": null,
   "id": "f979971d-7f83-4495-90cc-beb65e289b7c",
   "metadata": {},
   "outputs": [
    {
     "data": {
      "text/plain": [
       "5.875"
      ]
     },
     "execution_count": 37,
     "metadata": {},
     "output_type": "execute_result"
    }
   ],
   "source": [
    "# check our results with sklearn metrics\n",
    "from sklearn.metrics import mean_squared_error\n",
    "mean_squared_error(results.true_values, results.predictions)"
   ]
  },
  {
   "cell_type": "markdown",
   "id": "ab2d751c-96fb-4d17-961b-e16fb5ed2bac",
   "metadata": {},
   "source": [
    "* Root Mean Squared Error (RMSE): \n",
    "$$RMSE = \\sqrt{(\\frac{1}{n})\\sum_{i=1}^{n}(y_{i} - x_{i})^{2}}$$"
   ]
  },
  {
   "cell_type": "code",
   "execution_count": null,
   "id": "8446512c-cc7c-4594-93da-ceaba2b05b5d",
   "metadata": {},
   "outputs": [
    {
     "data": {
      "text/plain": [
       "diff    2.42384\n",
       "dtype: float64"
      ]
     },
     "execution_count": 38,
     "metadata": {},
     "output_type": "execute_result"
    }
   ],
   "source": [
    "rmse = (mse_pre.loc['sum'] / mse_pre.loc['count'])**0.5\n",
    "rmse"
   ]
  },
  {
   "cell_type": "code",
   "execution_count": null,
   "id": "b4d75e51-2369-4752-bd3e-61b81f3468ab",
   "metadata": {},
   "outputs": [
    {
     "data": {
      "text/plain": [
       "2.4238399287081647"
      ]
     },
     "execution_count": 39,
     "metadata": {},
     "output_type": "execute_result"
    }
   ],
   "source": [
    "# check our results with sklearn metrics\n",
    "mean_squared_error(results.true_values, results.predictions)**0.5"
   ]
  },
  {
   "cell_type": "markdown",
   "id": "84aea6e3-921e-4499-980f-c308e1ca6440",
   "metadata": {},
   "source": [
    "* Mean Absolute Error (MAE)\n",
    "$$mae = (\\frac{1}{n})\\sum_{i=1}^{n} |y_{i} - x_{i}|$$"
   ]
  },
  {
   "cell_type": "code",
   "execution_count": null,
   "id": "a62681f5-a850-4a88-bd95-34816b6d23ab",
   "metadata": {},
   "outputs": [
    {
     "data": {
      "text/plain": [
       "diff    1.625\n",
       "dtype: float64"
      ]
     },
     "execution_count": 40,
     "metadata": {},
     "output_type": "execute_result"
    }
   ],
   "source": [
    "mae_pre = (results\n",
    "               .assign(diff = lambda x: abs(x.true_values - x.predictions))\n",
    "               .agg({'diff':{'sum','count'}}))\n",
    "mae = mae_pre.loc['sum'] / mae_pre.loc['count']\n",
    "mae"
   ]
  },
  {
   "cell_type": "code",
   "execution_count": null,
   "id": "dad2489e-24b8-4d40-9629-d34e3a6e8e19",
   "metadata": {},
   "outputs": [
    {
     "data": {
      "text/plain": [
       "1.625"
      ]
     },
     "execution_count": 41,
     "metadata": {},
     "output_type": "execute_result"
    }
   ],
   "source": [
    "# check our results with sklearn metrics\n",
    "from sklearn.metrics import mean_absolute_error\n",
    "mean_absolute_error(results.true_values, results.predictions)"
   ]
  },
  {
   "cell_type": "markdown",
   "id": "7ad75372-a6ea-4380-8e99-626e839c02f2",
   "metadata": {},
   "source": [
    "To know more about this metrics I recommend to read the following [article](https://machinelearningmastery.com/regression-metrics-for-machine-learning/).\n",
    "\n",
    "We can create a function to summarise our error metrics:"
   ]
  },
  {
   "cell_type": "code",
   "execution_count": null,
   "id": "733a4bc3-fa18-4795-8d47-c77da549bc8f",
   "metadata": {},
   "outputs": [
    {
     "name": "stdout",
     "output_type": "stream",
     "text": [
      "\n",
      "        MSE: 5.875\n",
      "        RMSE: 2.4238399287081647\n",
      "        MEA: 1.625\n",
      "        \n"
     ]
    },
    {
     "data": {
      "image/png": "[encoded data removed]",
      "text/plain": [
       "<Figure size 432x288 with 1 Axes>"
      ]
     },
     "metadata": {
      "needs_background": "light"
     },
     "output_type": "display_data"
    }
   ],
   "source": [
    "def predictions_analysis(y_true, preds): \n",
    "    print(\n",
    "        f\"\"\"\n",
    "        MSE: {mean_squared_error(y_true, preds)}\n",
    "        RMSE: {mean_squared_error(y_true, preds)**0.5}\n",
    "        MAE: {mean_absolute_error(y_true, preds)}\n",
    "        \"\"\"\n",
    "    )\n",
    "    plt.title('Error analysis')\n",
    "    plt.xlabel('Predicted ratings')\n",
    "    plt.ylabel('True ratings')\n",
    "    sns.lineplot(x=[0,10], y=[0,10], color='red')\n",
    "    sns.scatterplot(x=preds, y=y_true)\n",
    "    plt.show()\n",
    "    \n",
    "predictions_analysis(true_values, predictions)"
   ]
  },
  {
   "cell_type": "markdown",
   "id": "367f9f06-5ce9-4ac4-921b-ead3563c3021",
   "metadata": {},
   "source": [
    "### 7th iteration: calculating distances between users who have given a rating (so excluding the users that has not given a rating (rating = 0))"
   ]
  },
  {
   "cell_type": "markdown",
   "id": "28c6dc83-78ac-430e-8f05-7318186f5e05",
   "metadata": {},
   "source": [
    "When we calculate the cosine distances including all the 0 ratings, it will have an impact into our results. We have to find out a way to exclude all the food that has not been rated (value 0) while we are calculating the cosine distance. Let's see how can we do it:\n",
    "\n",
    "Cosine similarity formula (source: [offical sklearn website](https://scikit-learn.org/stable/modules/metrics.html#metrics)). That is, if $x$ and $y$ are row vectors, their cosine similarity $k$ is defined as:\n",
    "\n",
    "$$cosine\\ similarity = k(x,y) = (\\frac{xy}{||x||||y||})$$"
   ]
  },
  {
   "cell_type": "code",
   "execution_count": null,
   "id": "900baebd-63e4-4957-9f2f-8d9d40444ff2",
   "metadata": {},
   "outputs": [],
   "source": [
    "def cosine_similitude_non_zero(data, student, student_to_compare):\n",
    "    \"compute cosine similarity of v1 to v2: (v1 dot v2)/{||v1||*||v2||)\"\n",
    "    cosine_sim_pre = (\n",
    "    pd.DataFrame({\n",
    "        'student_1':data.loc[student,:],\n",
    "        'student_2':data.loc[student_to_compare,:]\n",
    "    })\n",
    "        # remove all the foods that has not been rated (rating == 0)\n",
    "        .query('student_1 != 0 & student_2 != 0')\n",
    "        # apply cosine formula\n",
    "        .assign(\n",
    "            x = lambda x: x.student_1*x.student_1, \n",
    "            y = lambda x: x.student_2*x.student_2, \n",
    "            xy = lambda x: x.student_1*x.student_2, \n",
    "        )\n",
    "        .agg({'x':'sum', 'y':'sum', 'xy':'sum'})\n",
    "    )\n",
    "    cosine_similitude = cosine_sim_pre.loc['xy'] / (cosine_sim_pre.loc['x'] * cosine_sim_pre.loc['y'])**0.5\n",
    "    return cosine_similitude\n",
    "\n",
    "cos_sim = [[cosine_similitude_non_zero(train, student, student_to_compare) for student_to_compare in food.index] for student in food.index]\n",
    "cos_sim_non_zeros = pd.DataFrame(cos_sim, columns=food.index, index=food.index)\n"
   ]
  },
  {
   "cell_type": "code",
   "execution_count": null,
   "id": "9cab4376-5293-4400-8920-769dcb0b8d8b",
   "metadata": {},
   "outputs": [],
   "source": []
  },
  {
   "cell_type": "code",
   "execution_count": null,
   "id": "09c8117d-6b47-4226-a760-d6f26a1b0815",
   "metadata": {},
   "outputs": [
    {
     "name": "stdout",
     "output_type": "stream",
     "text": [
      "\n",
      "        MSE: 6.0\n",
      "        RMSE: 2.449489742783178\n",
      "        MEA: 1.75\n",
      "        \n"
     ]
    },
    {
     "data": {
      "image/png": "[encoded data removed]",
      "text/plain": [
       "<Figure size 432x288 with 1 Axes>"
      ]
     },
     "metadata": {
      "needs_background": "light"
     },
     "output_type": "display_data"
    }
   ],
   "source": [
    "preds_new_cos = [round(recommender(test.index[pos[0]], test.columns[pos[1]], cos_sim_non_zeros, train)) for pos in test_pos.values]\n",
    "predictions_analysis(true_values, preds_new_cos)"
   ]
  },
  {
   "cell_type": "code",
   "execution_count": null,
   "id": "18140915-e33d-402b-84a4-8a5e72585e0c",
   "metadata": {},
   "outputs": [
    {
     "name": "stdout",
     "output_type": "stream",
     "text": [
      "\n",
      "        MSE: 5.875\n",
      "        RMSE: 2.4238399287081647\n",
      "        MEA: 1.625\n",
      "        \n"
     ]
    },
    {
     "data": {
      "image/png": "[encoded data removed]",
      "text/plain": [
       "<Figure size 432x288 with 1 Axes>"
      ]
     },
     "metadata": {
      "needs_background": "light"
     },
     "output_type": "display_data"
    }
   ],
   "source": [
    "predictions_analysis(true_values, predictions)"
   ]
  },
  {
   "cell_type": "markdown",
   "id": "c6ce6d0e-86e7-4e8c-8503-b80632e3bb01",
   "metadata": {},
   "source": [
    "### 8th iteration: transforming our data"
   ]
  },
  {
   "cell_type": "markdown",
   "id": "f9767be3-4f05-4363-b67a-688dc4deb0a0",
   "metadata": {},
   "source": [
    "When we work with cosine similutude and ratings there is a problem when it comes to compare two cases like:"
   ]
  },
  {
   "cell_type": "code",
   "execution_count": null,
   "id": "7baa4432-9505-4d54-a0dc-2edd3678b0a4",
   "metadata": {},
   "outputs": [
    {
     "data": {
      "text/html": [
       "<div>\n",
       "<style scoped>\n",
       "    .dataframe tbody tr th:only-of-type {\n",
       "        vertical-align: middle;\n",
       "    }\n",
       "\n",
       "    .dataframe tbody tr th {\n",
       "        vertical-align: top;\n",
       "    }\n",
       "\n",
       "    .dataframe thead th {\n",
       "        text-align: right;\n",
       "    }\n",
       "</style>\n",
       "<table border=\"1\" class=\"dataframe\">\n",
       "  <thead>\n",
       "    <tr style=\"text-align: right;\">\n",
       "      <th></th>\n",
       "      <th>broccoli</th>\n",
       "      <th>meat</th>\n",
       "    </tr>\n",
       "    <tr>\n",
       "      <th>student</th>\n",
       "      <th></th>\n",
       "      <th></th>\n",
       "    </tr>\n",
       "  </thead>\n",
       "  <tbody>\n",
       "    <tr>\n",
       "      <th>student_1</th>\n",
       "      <td>1</td>\n",
       "      <td>1</td>\n",
       "    </tr>\n",
       "    <tr>\n",
       "      <th>student_2</th>\n",
       "      <td>10</td>\n",
       "      <td>10</td>\n",
       "    </tr>\n",
       "  </tbody>\n",
       "</table>\n",
       "</div>"
      ],
      "text/plain": [
       "           broccoli  meat\n",
       "student                  \n",
       "student_1         1     1\n",
       "student_2        10    10"
      ]
     },
     "execution_count": 46,
     "metadata": {},
     "output_type": "execute_result"
    }
   ],
   "source": [
    "temp = pd.DataFrame(\n",
    "    {\n",
    "        'student' : ['student_1', 'student_2'] ,\n",
    "        'broccoli': [1, 10],\n",
    "        'meat': [1, 10 ]\n",
    "    }\n",
    ").set_index('student')\n",
    "temp"
   ]
  },
  {
   "cell_type": "markdown",
   "id": "9422b531-5192-498d-a805-27ae1af21ad1",
   "metadata": {},
   "source": [
    "Each student rated really different the two foods; student 1 really do not like broccoli and meat, while student 2 really loves it. Let's visualise it to make it more clear: "
   ]
  },
  {
   "cell_type": "code",
   "execution_count": null,
   "id": "4854b97e-4d5d-48f8-bb08-ff97201fbae0",
   "metadata": {},
   "outputs": [
    {
     "data": {
      "image/png": "[encoded data removed]",
      "text/plain": [
       "<Figure size 432x288 with 1 Axes>"
      ]
     },
     "metadata": {
      "needs_background": "light"
     },
     "output_type": "display_data"
    }
   ],
   "source": [
    "plt.scatter(temp['broccoli'], temp['meat'])\n",
    "plt.xlim(-1, 11)\n",
    "plt.ylim(-1, 11)\n",
    "plt.title('Test ratings')\n",
    "plt.xlabel('Broccoli rating')\n",
    "plt.ylabel('Meat rating')\n",
    "plt.show()"
   ]
  },
  {
   "cell_type": "markdown",
   "id": "99034521-05b0-4102-b744-78448be483a2",
   "metadata": {},
   "source": [
    "If we look at the angle between the two different points would be 0. So the cosine similitude will be 1. This will mean that our model will be considering this two users really close to each other, when they are really different!"
   ]
  },
  {
   "cell_type": "code",
   "execution_count": null,
   "id": "2ce457de-5997-4fcd-bee1-8f1ece502e50",
   "metadata": {},
   "outputs": [
    {
     "data": {
      "text/plain": [
       "1.0"
      ]
     },
     "execution_count": 48,
     "metadata": {},
     "output_type": "execute_result"
    }
   ],
   "source": [
    "cosine_similitude_non_zero(temp, 'student_1','student_2')"
   ]
  },
  {
   "cell_type": "markdown",
   "id": "713e1004-8ae2-4b08-8262-9ed03acd98ed",
   "metadata": {},
   "source": [
    "So we have to figure out which transformation we should to our dataset to avoid this problem."
   ]
  },
  {
   "cell_type": "code",
   "execution_count": null,
   "id": "77e2cd3c-0f88-4c4c-9604-e1e63ebd07a5",
   "metadata": {},
   "outputs": [
    {
     "data": {
      "text/html": [
       "<div>\n",
       "<style scoped>\n",
       "    .dataframe tbody tr th:only-of-type {\n",
       "        vertical-align: middle;\n",
       "    }\n",
       "\n",
       "    .dataframe tbody tr th {\n",
       "        vertical-align: top;\n",
       "    }\n",
       "\n",
       "    .dataframe thead th {\n",
       "        text-align: right;\n",
       "    }\n",
       "</style>\n",
       "<table border=\"1\" class=\"dataframe\">\n",
       "  <thead>\n",
       "    <tr style=\"text-align: right;\">\n",
       "      <th></th>\n",
       "      <th>broccoli</th>\n",
       "      <th>meat</th>\n",
       "    </tr>\n",
       "    <tr>\n",
       "      <th>student</th>\n",
       "      <th></th>\n",
       "      <th></th>\n",
       "    </tr>\n",
       "  </thead>\n",
       "  <tbody>\n",
       "    <tr>\n",
       "      <th>student_1</th>\n",
       "      <td>-3.9</td>\n",
       "      <td>-3.9</td>\n",
       "    </tr>\n",
       "    <tr>\n",
       "      <th>student_2</th>\n",
       "      <td>5.1</td>\n",
       "      <td>5.1</td>\n",
       "    </tr>\n",
       "  </tbody>\n",
       "</table>\n",
       "</div>"
      ],
      "text/plain": [
       "           broccoli  meat\n",
       "student                  \n",
       "student_1      -3.9  -3.9\n",
       "student_2       5.1   5.1"
      ]
     },
     "execution_count": 49,
     "metadata": {},
     "output_type": "execute_result"
    }
   ],
   "source": [
    "temp_transformed = temp - 4.9\n",
    "temp_transformed"
   ]
  },
  {
   "cell_type": "markdown",
   "id": "afdf21bb-708c-48cb-82b7-231e1c92f538",
   "metadata": {},
   "source": [
    "I decided to transform into negative values all the values below to 5. I choosed the value 4.9 as it will avoid that any value will become exactly 0, and then it will not be excluded from our function `cosine_similitude_non_zero` which considers the 0 as non rated foods.\n",
    "\n",
    "Let's visualise the tranformed ratingsz:"
   ]
  },
  {
   "cell_type": "code",
   "execution_count": null,
   "id": "4f4c0f81-1c2d-4112-bcf2-43065836e0bf",
   "metadata": {},
   "outputs": [
    {
     "data": {
      "image/png": "[encoded data removed]",
      "text/plain": [
       "<Figure size 432x288 with 1 Axes>"
      ]
     },
     "metadata": {
      "needs_background": "light"
     },
     "output_type": "display_data"
    }
   ],
   "source": [
    "plt.scatter(temp_transformed['broccoli'], temp_transformed['meat'])\n",
    "plt.hlines(0, -5, 5, color='gray', linestyle='--')\n",
    "plt.vlines(0, -5, 5, color='gray', linestyle='--')\n",
    "plt.title('Test ratings')\n",
    "plt.xlabel('Broccoli rating')\n",
    "plt.ylabel('Meat rating')\n",
    "plt.show()"
   ]
  },
  {
   "cell_type": "markdown",
   "id": "c38be12d-5fce-46ae-905a-b09f4eb9367d",
   "metadata": {},
   "source": [
    "And now if we calculate the cosine similitude between each value: "
   ]
  },
  {
   "cell_type": "code",
   "execution_count": null,
   "id": "b7947652-57b0-4fa9-81c3-2c2e5132fcf2",
   "metadata": {},
   "outputs": [
    {
     "data": {
      "text/plain": [
       "-1.0"
      ]
     },
     "execution_count": 51,
     "metadata": {},
     "output_type": "execute_result"
    }
   ],
   "source": [
    "cosine_similitude_non_zero(temp_transformed, 'student_1','student_2')"
   ]
  },
  {
   "cell_type": "markdown",
   "id": "d03bc8c9-2838-4f42-b1e8-8f1a80ce9196",
   "metadata": {},
   "source": [
    "Let's apply it into my foods dataset:"
   ]
  },
  {
   "cell_type": "code",
   "execution_count": null,
   "id": "c607c62e-5a61-4462-b2d5-fe8282009650",
   "metadata": {},
   "outputs": [
    {
     "name": "stdout",
     "output_type": "stream",
     "text": [
      "\n",
      "        MSE: 8.5\n",
      "        RMSE: 2.9154759474226504\n",
      "        MEA: 2.0\n",
      "        \n"
     ]
    },
    {
     "data": {
      "image/png": "[encoded data removed]",
      "text/plain": [
       "<Figure size 432x288 with 1 Axes>"
      ]
     },
     "metadata": {
      "needs_background": "light"
     },
     "output_type": "display_data"
    }
   ],
   "source": [
    "# replace 0 values to nan. This step is done to avoid applying the tranformation also to non rated foods\n",
    "train_transformed = train.replace({0: np.nan}).copy()\n",
    "# apply transformation to transform low ratings into negative values\n",
    "train_transformed = train_transformed - 4.9\n",
    "# turn back missing values to 0\n",
    "train_transformed = train_transformed.replace({np.nan: 0})\n",
    "# calculate the cosine similitude matrix\n",
    "cos_dist = [[cosine_similitude_non_zero(train_transformed, student, student_to_compare) for student_to_compare in food.index] for student in food.index]\n",
    "cos_dist_non_zeros = pd.DataFrame(cos_dist, columns=food.index, index=food.index)\n",
    "# get the recommendations for the test set\n",
    "preds_new_cos = [round(recommender(test.index[pos[0]], test.columns[pos[1]], cos_dist_non_zeros, train_transformed) + 4.5) for pos in test_pos.values]\n",
    "# analyse its results\n",
    "predictions_analysis(true_values, preds_new_cos)"
   ]
  },
  {
   "cell_type": "code",
   "execution_count": null,
   "id": "c838f0d6-55a2-4df8-9b4c-9bc83c811d7b",
   "metadata": {},
   "outputs": [],
   "source": []
  }
 ],
 "metadata": {
  "kernelspec": {
   "display_name": "Python 3",
   "language": "python",
   "name": "python3"
  },
  "language_info": {
   "codemirror_mode": {
    "name": "ipython",
    "version": 3
   },
   "file_extension": ".py",
   "mimetype": "text/x-python",
   "name": "python",
   "nbconvert_exporter": "python",
   "pygments_lexer": "ipython3",
   "version": "3.8.8"
  }
 },
 "nbformat": 4,
 "nbformat_minor": 5
}
